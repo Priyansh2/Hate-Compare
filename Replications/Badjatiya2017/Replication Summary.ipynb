{
 "cells": [
  {
   "cell_type": "markdown",
   "metadata": {},
   "source": [
    "# Replication Summary\n",
    "\n",
    "## Part A"
   ]
  },
  {
   "cell_type": "markdown",
   "metadata": {},
   "source": [
    "### BoWV + GBDT\n",
    "`!python BoWV.py --m gradient_boosting --loss deviance --estimators 100 --jobs -2 -f GloVe/glove.twitter.27B.200d.txt --d 200 --seed 42 --tokenizer glove`"
   ]
  },
  {
   "cell_type": "code",
   "execution_count": 6,
   "metadata": {},
   "outputs": [
    {
     "name": "stdout",
     "output_type": "stream",
     "text": [
      "GLOVE embedding: GloVe/glove.twitter.27B.200d.txt\n",
      "Embedding Dimension: 200\n",
      "GloVe model loaded successfully.\n",
      "Tweets selected: 16905\n",
      "Features and labels loaded from pickled files.\n",
      "Model Type: gradient_boosting\n",
      "[Parallel(n_jobs=1)]: Using backend SequentialBackend with 1 concurrent workers.\n",
      "[Parallel(n_jobs=1)]: Done  10 out of  10 | elapsed:  4.6min finished\n",
      "Precision(avg): 0.765 (+/- 0.012)\n",
      "Recall(avg): 0.770 (+/- 0.011)\n",
      "F1-score(avg): 0.748 (+/- 0.013)\n"
     ]
    }
   ],
   "source": [
    "!python BoWV.py --m gradient_boosting --loss deviance --estimators 100 --jobs -2 -f GloVe/glove.twitter.27B.200d.txt --d 200 --seed 42 --tokenizer glove "
   ]
  }
 ],
 "metadata": {
  "kernelspec": {
   "display_name": "Python 2",
   "language": "python",
   "name": "python2"
  },
  "language_info": {
   "codemirror_mode": {
    "name": "ipython",
    "version": 2
   },
   "file_extension": ".py",
   "mimetype": "text/x-python",
   "name": "python",
   "nbconvert_exporter": "python",
   "pygments_lexer": "ipython2",
   "version": "2.7.16"
  }
 },
 "nbformat": 4,
 "nbformat_minor": 2
}
