{
 "cells": [
  {
   "cell_type": "code",
   "execution_count": 1,
   "metadata": {},
   "outputs": [
    {
     "name": "stdout",
     "output_type": "stream",
     "text": [
      "Using GPU.\n"
     ]
    }
   ],
   "source": [
    "import torch\n",
    "import json\n",
    "import numpy as np\n",
    "import pandas as pd\n",
    "from torch import nn\n",
    "\n",
    "from utils import get_loaders\n",
    "from classifier_utils import HateSpeechClassifier, forward_back_prop, train_classifier\n",
    "\n",
    "tweets = np.load(\"data/tweets.npy\")\n",
    "labels = np.load(\"data/hate_original.npy\")\n",
    "\n",
    "with open('vocab_to_int.json', 'r') as fp:\n",
    "    vocab_to_int = json.load(fp)\n",
    "\n",
    "with open('int_to_vocab.json', 'r') as fp:\n",
    "    int_to_vocab = json.load(fp)\n",
    "    \n",
    "train_on_gpu = torch.cuda.is_available()\n",
    "print(\"Using GPU.\" if train_on_gpu else \"Using CPU.\")"
   ]
  },
  {
   "cell_type": "markdown",
   "metadata": {},
   "source": [
    "### Creating the Training, Validation, and Test Sets"
   ]
  },
  {
   "cell_type": "code",
   "execution_count": 2,
   "metadata": {},
   "outputs": [
    {
     "name": "stdout",
     "output_type": "stream",
     "text": [
      "\t\t\tFeature Shapes:\n",
      "Train set: \t\t(19826, 91) \n",
      "Validation set: \t(2478, 91) \n",
      "Test set: \t\t(2479, 91)\n"
     ]
    }
   ],
   "source": [
    "train_loader, valid_loader, test_loader = get_loaders(tweets, labels)"
   ]
  },
  {
   "cell_type": "code",
   "execution_count": 3,
   "metadata": {},
   "outputs": [
    {
     "name": "stdout",
     "output_type": "stream",
     "text": [
      "Sample input size:  torch.Size([64, 91])\n",
      "Sample input: \n",
      " tensor([[    0,     0,     0,  ...,     0, 12719, 18692],\n",
      "        [    0,     0,     0,  ...,  1128,  2724,  8082],\n",
      "        [    0,     0,     0,  ...,  5715,  5805,   657],\n",
      "        ...,\n",
      "        [    0,     0,     0,  ...,    53, 10432, 18484],\n",
      "        [    0,     0,     0,  ...,  3546, 20202,  1454],\n",
      "        [    0,     0,     0,  ...,  4997, 17609, 19327]], dtype=torch.int32)\n",
      "\n",
      "Sample label size:  torch.Size([64])\n",
      "Sample label: \n",
      " tensor([2, 2, 1, 1, 1, 2, 1, 1, 1, 0, 2, 1, 1, 1, 1, 1, 1, 1, 1, 2, 2, 1, 1, 1,\n",
      "        1, 0, 2, 1, 1, 1, 1, 1, 1, 1, 1, 1, 1, 1, 2, 1, 1, 1, 1, 1, 1, 2, 1, 1,\n",
      "        1, 1, 1, 1, 1, 2, 1, 2, 1, 1, 2, 1, 1, 1, 2, 1])\n"
     ]
    }
   ],
   "source": [
    "# obtain one batch of training data\n",
    "dataiter = iter(train_loader)\n",
    "sample_x, sample_y = dataiter.next()\n",
    "\n",
    "print('Sample input size: ', sample_x.size()) # batch_size, seq_length\n",
    "print('Sample input: \\n', sample_x)\n",
    "print()\n",
    "print('Sample label size: ', sample_y.size()) # batch_size\n",
    "print('Sample label: \\n', sample_y)"
   ]
  },
  {
   "cell_type": "markdown",
   "metadata": {},
   "source": [
    "### Hyperparameters"
   ]
  },
  {
   "cell_type": "code",
   "execution_count": 4,
   "metadata": {},
   "outputs": [],
   "source": [
    "sequence_length = tweets.shape[1]  # number of words in a sequence\n",
    "num_epochs = 5\n",
    "learning_rate = 0.0005\n",
    "vocab_size = len(vocab_to_int)\n",
    "output_size = pd.Series(labels).nunique()\n",
    "embedding_dim = 25\n",
    "hidden_dim = 256\n",
    "batch_size = 64\n",
    "n_layers = 2\n",
    "show_every_n_batches = 50\n",
    "cnn_params = (32, 25, 1, 4)\n",
    "pool_params = (4, 4, 0)"
   ]
  },
  {
   "cell_type": "markdown",
   "metadata": {},
   "source": [
    "### Model Instantiation"
   ]
  },
  {
   "cell_type": "code",
   "execution_count": 5,
   "metadata": {},
   "outputs": [
    {
     "name": "stdout",
     "output_type": "stream",
     "text": [
      "4186 words in the vocabulary have no pre-trained embedding.\n"
     ]
    }
   ],
   "source": [
    "model = HateSpeechClassifier(vocab_size, output_size, embedding_dim, \n",
    "                             cnn_params, pool_params, hidden_dim, n_layers, \n",
    "                             dropout=0.5, embedding_path=\"glove/glove.twitter.27B.25d.txt\", \n",
    "                             vocab_to_int=vocab_to_int)\n",
    "\n",
    "if train_on_gpu:\n",
    "    model.cuda()"
   ]
  },
  {
   "cell_type": "markdown",
   "metadata": {},
   "source": [
    "### Train network"
   ]
  },
  {
   "cell_type": "code",
   "execution_count": 6,
   "metadata": {},
   "outputs": [],
   "source": [
    "optimizer = torch.optim.Adam(model.parameters(), lr=learning_rate)\n",
    "criterion = nn.CrossEntropyLoss()"
   ]
  },
  {
   "cell_type": "code",
   "execution_count": 9,
   "metadata": {},
   "outputs": [
    {
     "name": "stdout",
     "output_type": "stream",
     "text": [
      "Training for 5 epoch(s)...\n",
      "Epoch: 1/5. \tBatch: 50/310.\t Avg. Training Loss: 0.7162245172262192\n",
      "Epoch: 1/5. \tBatch: 100/310.\t Avg. Training Loss: 0.64970160394907\n",
      "Epoch: 1/5. \tBatch: 150/310.\t Avg. Training Loss: 0.5914298526446025\n",
      "Epoch: 1/5. \tBatch: 200/310.\t Avg. Training Loss: 0.5466499134898186\n",
      "Epoch: 1/5. \tBatch: 250/310.\t Avg. Training Loss: 0.5110641062259674\n",
      "Epoch: 1/5. \tBatch: 300/310.\t Avg. Training Loss: 0.48945421174168585\n",
      "Epoch: 1 \tTraining Loss: 0.485784 \tValidation Loss: 0.326976 \t Accuracy: 89.843750\n",
      "\n",
      "Epoch: 2/5. \tBatch: 50/310.\t Avg. Training Loss: 0.3435819044709206\n",
      "Epoch: 2/5. \tBatch: 100/310.\t Avg. Training Loss: 0.34118292570114134\n",
      "Epoch: 2/5. \tBatch: 150/310.\t Avg. Training Loss: 0.33503892133633295\n",
      "Epoch: 2/5. \tBatch: 200/310.\t Avg. Training Loss: 0.330935439877212\n",
      "Epoch: 2/5. \tBatch: 250/310.\t Avg. Training Loss: 0.333333226531744\n",
      "Epoch: 2/5. \tBatch: 300/310.\t Avg. Training Loss: 0.33263800295690693\n",
      "Epoch: 2 \tTraining Loss: 0.331690 \tValidation Loss: 0.298196 \t Accuracy: 89.925987\n",
      "\n",
      "Epoch: 3/5. \tBatch: 50/310.\t Avg. Training Loss: 0.280474391579628\n",
      "Epoch: 3/5. \tBatch: 100/310.\t Avg. Training Loss: 0.2960413713753223\n",
      "Epoch: 3/5. \tBatch: 150/310.\t Avg. Training Loss: 0.2993340311447779\n",
      "Epoch: 3/5. \tBatch: 200/310.\t Avg. Training Loss: 0.2968097032606602\n",
      "Epoch: 3/5. \tBatch: 250/310.\t Avg. Training Loss: 0.29819412261247635\n",
      "Epoch: 3/5. \tBatch: 300/310.\t Avg. Training Loss: 0.2982243304948012\n",
      "Epoch: 3 \tTraining Loss: 0.296100 \tValidation Loss: 0.282002 \t Accuracy: 90.090461\n",
      "\n",
      "Epoch: 4/5. \tBatch: 50/310.\t Avg. Training Loss: 0.2561453101038933\n",
      "Epoch: 4/5. \tBatch: 100/310.\t Avg. Training Loss: 0.26253008157014845\n",
      "Epoch: 4/5. \tBatch: 150/310.\t Avg. Training Loss: 0.2616086249301831\n",
      "Epoch: 4/5. \tBatch: 200/310.\t Avg. Training Loss: 0.2566618308983743\n",
      "Epoch: 4/5. \tBatch: 250/310.\t Avg. Training Loss: 0.2602514334768057\n",
      "Epoch: 4/5. \tBatch: 300/310.\t Avg. Training Loss: 0.2668595795954267\n",
      "Epoch: 4 \tTraining Loss: 0.265497 \tValidation Loss: 0.278946 \t Accuracy: 90.378289\n",
      "\n",
      "Epoch: 5/5. \tBatch: 50/310.\t Avg. Training Loss: 0.2150976037979126\n",
      "Epoch: 5/5. \tBatch: 100/310.\t Avg. Training Loss: 0.21786063089966773\n",
      "Epoch: 5/5. \tBatch: 150/310.\t Avg. Training Loss: 0.23090813741087912\n",
      "Epoch: 5/5. \tBatch: 200/310.\t Avg. Training Loss: 0.23488138219341637\n",
      "Epoch: 5/5. \tBatch: 250/310.\t Avg. Training Loss: 0.23569599123299123\n",
      "Epoch: 5/5. \tBatch: 300/310.\t Avg. Training Loss: 0.23741093480338654\n",
      "Epoch: 5 \tTraining Loss: 0.236765 \tValidation Loss: 0.276801 \t Accuracy: 90.049342\n",
      "\n"
     ]
    }
   ],
   "source": [
    "model = train_classifier(model, batch_size, optimizer, criterion, num_epochs, train_loader, valid_loader,\n",
    "                         show_every_n_batches=show_every_n_batches)"
   ]
  }
 ],
 "metadata": {
  "kernelspec": {
   "display_name": "Python [conda env:capstone]",
   "language": "python",
   "name": "conda-env-capstone-py"
  },
  "language_info": {
   "codemirror_mode": {
    "name": "ipython",
    "version": 3
   },
   "file_extension": ".py",
   "mimetype": "text/x-python",
   "name": "python",
   "nbconvert_exporter": "python",
   "pygments_lexer": "ipython3",
   "version": "3.7.4"
  }
 },
 "nbformat": 4,
 "nbformat_minor": 2
}
