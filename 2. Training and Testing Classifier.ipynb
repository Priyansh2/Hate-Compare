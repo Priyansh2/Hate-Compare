{
 "cells": [
  {
   "cell_type": "code",
   "execution_count": 1,
   "metadata": {},
   "outputs": [
    {
     "name": "stdout",
     "output_type": "stream",
     "text": [
      "Using GPU.\n"
     ]
    }
   ],
   "source": [
    "import torch\n",
    "import json\n",
    "import numpy as np\n",
    "import pandas as pd\n",
    "from torch import nn\n",
    "\n",
    "from utils import get_loaders\n",
    "from classifier_utils import HateSpeechClassifier, forward_back_prop, \\\n",
    "                             train_classifier, batch_test, plot_confusion_matrices\n",
    "\n",
    "tweets = np.load(\"data/tweets.npy\")\n",
    "labels = np.load(\"data/hate_original.npy\")\n",
    "\n",
    "with open('vocab_to_int.json', 'r') as fp:\n",
    "    vocab_to_int = json.load(fp)\n",
    "\n",
    "with open('int_to_vocab.json', 'r') as fp:\n",
    "    int_to_vocab = json.load(fp)\n",
    "    \n",
    "train_on_gpu = torch.cuda.is_available()\n",
    "print(\"Using GPU.\" if train_on_gpu else \"Using CPU.\")"
   ]
  },
  {
   "cell_type": "markdown",
   "metadata": {},
   "source": [
    "### Creating the Training, Validation, and Test Sets"
   ]
  },
  {
   "cell_type": "code",
   "execution_count": 2,
   "metadata": {},
   "outputs": [
    {
     "name": "stdout",
     "output_type": "stream",
     "text": [
      "\t\t\tFeature Shapes:\n",
      "Train set: \t\t(19826, 100) \n",
      "Validation set: \t(2478, 100) \n",
      "Test set: \t\t(2479, 100)\n"
     ]
    }
   ],
   "source": [
    "train_loader, valid_loader, test_loader = get_loaders(tweets, labels)"
   ]
  },
  {
   "cell_type": "code",
   "execution_count": 3,
   "metadata": {},
   "outputs": [
    {
     "name": "stdout",
     "output_type": "stream",
     "text": [
      "Sample input size:  torch.Size([64, 100])\n",
      "Sample input: \n",
      " tensor([[    0,     0,     0,  ...,   424, 15832, 10642],\n",
      "        [    0,     0,     0,  ...,  9223, 10416, 21024],\n",
      "        [    0,     0,     0,  ...,  9223,  9351,  8790],\n",
      "        ...,\n",
      "        [    0,     0,     0,  ...,  6036, 10764, 16616],\n",
      "        [    0,     0,     0,  ..., 16880, 16880, 16880],\n",
      "        [    0,     0,     0,  ..., 10642, 10642, 10642]], dtype=torch.int32)\n",
      "\n",
      "Sample label size:  torch.Size([64])\n",
      "Sample label: \n",
      " tensor([1, 1, 1, 1, 1, 1, 2, 1, 1, 1, 1, 1, 1, 1, 2, 0, 1, 1, 2, 1, 1, 1, 2, 1,\n",
      "        1, 1, 0, 1, 1, 1, 1, 2, 1, 1, 2, 1, 1, 2, 1, 1, 1, 1, 1, 1, 2, 1, 2, 1,\n",
      "        1, 1, 1, 0, 1, 1, 2, 1, 1, 0, 1, 1, 1, 1, 1, 2])\n"
     ]
    }
   ],
   "source": [
    "# obtain one batch of training data\n",
    "dataiter = iter(train_loader)\n",
    "sample_x, sample_y = dataiter.next()\n",
    "\n",
    "print('Sample input size: ', sample_x.size()) # batch_size, seq_length\n",
    "print('Sample input: \\n', sample_x)\n",
    "print()\n",
    "print('Sample label size: ', sample_y.size()) # batch_size\n",
    "print('Sample label: \\n', sample_y)"
   ]
  },
  {
   "cell_type": "markdown",
   "metadata": {},
   "source": [
    "### Hyperparameters"
   ]
  },
  {
   "cell_type": "code",
   "execution_count": 4,
   "metadata": {},
   "outputs": [],
   "source": [
    "sequence_length = tweets.shape[1]  # number of words in a sequence\n",
    "num_epochs = 5\n",
    "learning_rate = 0.0005\n",
    "vocab_size = len(vocab_to_int)\n",
    "output_size = pd.Series(labels).nunique()\n",
    "embedding_dim = 25\n",
    "hidden_dim = 256\n",
    "batch_size = 64\n",
    "n_layers = 2\n",
    "show_every_n_batches = 50\n",
    "cnn_params = (32, 25, 1, 4)\n",
    "pool_params = (4, 4, 0)"
   ]
  },
  {
   "cell_type": "markdown",
   "metadata": {},
   "source": [
    "### Model Instantiation"
   ]
  },
  {
   "cell_type": "code",
   "execution_count": 5,
   "metadata": {},
   "outputs": [
    {
     "name": "stdout",
     "output_type": "stream",
     "text": [
      "Setting pretrained embedding weights...\n",
      "4186 words in the vocabulary have no pre-trained embedding.\n"
     ]
    }
   ],
   "source": [
    "model = HateSpeechClassifier(vocab_size, output_size, embedding_dim, \n",
    "                             cnn_params, pool_params, hidden_dim, n_layers, \n",
    "                             dropout=0.5, embedding_path=\"glove/glove.twitter.27B.25d.txt\", \n",
    "                             vocab_to_int=vocab_to_int, train_on_gpu=train_on_gpu)\n",
    "\n",
    "if train_on_gpu:\n",
    "    model.cuda()"
   ]
  },
  {
   "cell_type": "markdown",
   "metadata": {},
   "source": [
    "### Train network"
   ]
  },
  {
   "cell_type": "code",
   "execution_count": 6,
   "metadata": {},
   "outputs": [],
   "source": [
    "optimizer = torch.optim.Adam(model.parameters(), lr=learning_rate)\n",
    "criterion = nn.CrossEntropyLoss()"
   ]
  },
  {
   "cell_type": "code",
   "execution_count": 7,
   "metadata": {},
   "outputs": [
    {
     "name": "stdout",
     "output_type": "stream",
     "text": [
      "Training for 5 epoch(s)...\n",
      "Epoch: 1/5. \tBatch: 50/310.\t Avg. Training Loss: 0.7172253233194351\n",
      "Epoch: 1/5. \tBatch: 100/310.\t Avg. Training Loss: 0.6377925878763199\n",
      "Epoch: 1/5. \tBatch: 150/310.\t Avg. Training Loss: 0.5824156413475673\n",
      "Epoch: 1/5. \tBatch: 200/310.\t Avg. Training Loss: 0.5489801146090031\n",
      "Epoch: 1/5. \tBatch: 250/310.\t Avg. Training Loss: 0.5149113618731499\n",
      "Epoch: 1/5. \tBatch: 300/310.\t Avg. Training Loss: 0.4938226673007011\n",
      "Epoch: 1 \tTraining Loss: 0.486976 \tValidation Loss: 0.371260 \t Accuracy: 87.500000\n",
      "\n",
      "Epoch: 2/5. \tBatch: 50/310.\t Avg. Training Loss: 0.3429980859160423\n",
      "Epoch: 2/5. \tBatch: 100/310.\t Avg. Training Loss: 0.35352026104927065\n",
      "Epoch: 2/5. \tBatch: 150/310.\t Avg. Training Loss: 0.3430738931894302\n",
      "Epoch: 2/5. \tBatch: 200/310.\t Avg. Training Loss: 0.3416961857676506\n",
      "Epoch: 2/5. \tBatch: 250/310.\t Avg. Training Loss: 0.33743099504709245\n",
      "Epoch: 2/5. \tBatch: 300/310.\t Avg. Training Loss: 0.3346550764143467\n",
      "Epoch: 2 \tTraining Loss: 0.334531 \tValidation Loss: 0.327499 \t Accuracy: 88.733553\n",
      "\n",
      "Epoch: 3/5. \tBatch: 50/310.\t Avg. Training Loss: 0.29056652545928957\n",
      "Epoch: 3/5. \tBatch: 100/310.\t Avg. Training Loss: 0.2833486568927765\n",
      "Epoch: 3/5. \tBatch: 150/310.\t Avg. Training Loss: 0.2898584794004758\n",
      "Epoch: 3/5. \tBatch: 200/310.\t Avg. Training Loss: 0.2944562345743179\n",
      "Epoch: 3/5. \tBatch: 250/310.\t Avg. Training Loss: 0.29667558884620665\n",
      "Epoch: 3/5. \tBatch: 300/310.\t Avg. Training Loss: 0.2938680707414945\n",
      "Epoch: 3 \tTraining Loss: 0.292686 \tValidation Loss: 0.326933 \t Accuracy: 88.610197\n",
      "\n",
      "Epoch: 4/5. \tBatch: 50/310.\t Avg. Training Loss: 0.2665004532039166\n",
      "Epoch: 4/5. \tBatch: 100/310.\t Avg. Training Loss: 0.26971277765929697\n",
      "Epoch: 4/5. \tBatch: 150/310.\t Avg. Training Loss: 0.26996293410658834\n",
      "Epoch: 4/5. \tBatch: 200/310.\t Avg. Training Loss: 0.26544454898685216\n",
      "Epoch: 4/5. \tBatch: 250/310.\t Avg. Training Loss: 0.2656768973171711\n",
      "Epoch: 4/5. \tBatch: 300/310.\t Avg. Training Loss: 0.2625379169980685\n",
      "Epoch: 4 \tTraining Loss: 0.262457 \tValidation Loss: 0.315637 \t Accuracy: 88.939145\n",
      "\n",
      "Epoch: 5/5. \tBatch: 50/310.\t Avg. Training Loss: 0.23525991812348365\n",
      "Epoch: 5/5. \tBatch: 100/310.\t Avg. Training Loss: 0.2314584491401911\n",
      "Epoch: 5/5. \tBatch: 150/310.\t Avg. Training Loss: 0.23030224844813346\n",
      "Epoch: 5/5. \tBatch: 200/310.\t Avg. Training Loss: 0.23341241139918567\n",
      "Epoch: 5/5. \tBatch: 250/310.\t Avg. Training Loss: 0.23684578838944434\n",
      "Epoch: 5/5. \tBatch: 300/310.\t Avg. Training Loss: 0.2369110116859277\n",
      "Epoch: 5 \tTraining Loss: 0.235650 \tValidation Loss: 0.330981 \t Accuracy: 88.980263\n",
      "\n"
     ]
    }
   ],
   "source": [
    "model = train_classifier(model, batch_size, optimizer, criterion, num_epochs, train_loader, valid_loader,\n",
    "                         show_every_n_batches=show_every_n_batches)"
   ]
  },
  {
   "cell_type": "markdown",
   "metadata": {},
   "source": [
    "### Test network"
   ]
  },
  {
   "cell_type": "code",
   "execution_count": 8,
   "metadata": {},
   "outputs": [
    {
     "name": "stdout",
     "output_type": "stream",
     "text": [
      "Test loss: 0.317\n",
      "Test accuracy: 87.7%\n"
     ]
    }
   ],
   "source": [
    "test_loss, test_acc, y_true, y_pred = batch_test(model, batch_size, test_loader, criterion, prnt=True)"
   ]
  },
  {
   "cell_type": "code",
   "execution_count": 9,
   "metadata": {},
   "outputs": [
    {
     "name": "stdout",
     "output_type": "stream",
     "text": [
      "Confusion matrix, without normalization\n",
      "Normalized confusion matrix\n"
     ]
    },
    {
     "data": {
      "image/png": "[encoded data removed]",
      "text/plain": [
       "<Figure size 432x288 with 2 Axes>"
      ]
     },
     "metadata": {
      "needs_background": "light"
     },
     "output_type": "display_data"
    },
    {
     "data": {
      "image/png": "[encoded data removed]",
      "text/plain": [
       "<Figure size 432x288 with 2 Axes>"
      ]
     },
     "metadata": {
      "needs_background": "light"
     },
     "output_type": "display_data"
    }
   ],
   "source": [
    "plot_confusion_matrices(y_true, y_pred)"
   ]
  }
 ],
 "metadata": {
  "kernelspec": {
   "display_name": "Python [conda env:capstone]",
   "language": "python",
   "name": "conda-env-capstone-py"
  },
  "language_info": {
   "codemirror_mode": {
    "name": "ipython",
    "version": 3
   },
   "file_extension": ".py",
   "mimetype": "text/x-python",
   "name": "python",
   "nbconvert_exporter": "python",
   "pygments_lexer": "ipython3",
   "version": "3.7.4"
  }
 },
 "nbformat": 4,
 "nbformat_minor": 2
}
