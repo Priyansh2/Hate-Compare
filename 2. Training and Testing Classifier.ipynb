{
 "cells": [
  {
   "cell_type": "code",
   "execution_count": 1,
   "metadata": {
    "ExecuteTime": {
     "end_time": "2019-12-07T11:32:09.475154Z",
     "start_time": "2019-12-07T11:32:06.813396Z"
    }
   },
   "outputs": [
    {
     "name": "stdout",
     "output_type": "stream",
     "text": [
      "Using GPU.\n"
     ]
    }
   ],
   "source": [
    "import torch\n",
    "import json\n",
    "import numpy as np\n",
    "import pandas as pd\n",
    "from torch import nn\n",
    "\n",
    "from utils import get_loaders\n",
    "from classifier_utils import HateSpeechClassifier, forward_back_prop, \\\n",
    "                             train_classifier, batch_test, plot_confusion_matrices\n",
    "\n",
    "tweets = np.load(\"data/tweets.npy\")\n",
    "labels = np.load(\"data/hate_original.npy\")\n",
    "\n",
    "with open('vocab_to_int.json', 'r') as fp:\n",
    "    vocab_to_int = json.load(fp)\n",
    "\n",
    "with open('int_to_vocab.json', 'r') as fp:\n",
    "    int_to_vocab = json.load(fp)\n",
    "    \n",
    "train_on_gpu = torch.cuda.is_available()\n",
    "print(\"Using GPU.\" if train_on_gpu else \"Using CPU.\")"
   ]
  },
  {
   "cell_type": "markdown",
   "metadata": {},
   "source": [
    "### Creating the Training, Validation, and Test Sets"
   ]
  },
  {
   "cell_type": "code",
   "execution_count": 2,
   "metadata": {
    "ExecuteTime": {
     "end_time": "2019-12-07T11:32:12.065484Z",
     "start_time": "2019-12-07T11:32:12.049498Z"
    }
   },
   "outputs": [
    {
     "name": "stdout",
     "output_type": "stream",
     "text": [
      "\t\t\tFeature Shapes:\n",
      "Train set: \t\t(19826, 100) \n",
      "Validation set: \t(2478, 100) \n",
      "Test set: \t\t(2479, 100)\n"
     ]
    }
   ],
   "source": [
    "batch_size = 80\n",
    "train_loader, valid_loader, test_loader = get_loaders(tweets, labels, \n",
    "                                                      train_frac=0.8, remain_split_frac=0.5, \n",
    "                                                      batch_size=batch_size)"
   ]
  },
  {
   "cell_type": "code",
   "execution_count": 3,
   "metadata": {
    "ExecuteTime": {
     "end_time": "2019-12-07T11:32:12.320774Z",
     "start_time": "2019-12-07T11:32:12.296844Z"
    }
   },
   "outputs": [
    {
     "name": "stdout",
     "output_type": "stream",
     "text": [
      "Sample input size:  torch.Size([80, 100])\n",
      "Sample input: \n",
      " tensor([[    0,     0,     0,  ..., 13676,  6990, 16880],\n",
      "        [    0,     0,     0,  ..., 14145,  9372, 15533],\n",
      "        [    0,     0,     0,  ..., 20675, 10523, 18299],\n",
      "        ...,\n",
      "        [    0,     0,     0,  ...,  8693,  3101, 14220],\n",
      "        [    0,     0,     0,  ..., 20841,  3509, 19765],\n",
      "        [    0,     0,     0,  ...,  2909,  2909,  2909]], dtype=torch.int32)\n",
      "\n",
      "Sample label size:  torch.Size([80])\n",
      "Sample label: \n",
      " tensor([2, 1, 2, 1, 1, 1, 1, 1, 1, 1, 1, 1, 1, 1, 1, 1, 1, 1, 2, 1, 1, 1, 1, 1,\n",
      "        2, 1, 1, 1, 1, 2, 1, 1, 1, 0, 1, 0, 2, 1, 1, 1, 0, 1, 2, 1, 2, 1, 2, 1,\n",
      "        1, 1, 1, 1, 1, 1, 0, 2, 1, 1, 1, 1, 1, 1, 1, 1, 1, 1, 1, 1, 0, 1, 1, 1,\n",
      "        1, 0, 2, 1, 1, 1, 2, 1])\n"
     ]
    }
   ],
   "source": [
    "# obtain one batch of training data\n",
    "dataiter = iter(train_loader)\n",
    "sample_x, sample_y = dataiter.next()\n",
    "\n",
    "print('Sample input size: ', sample_x.size()) # batch_size, seq_length\n",
    "print('Sample input: \\n', sample_x)\n",
    "print()\n",
    "print('Sample label size: ', sample_y.size()) # batch_size\n",
    "print('Sample label: \\n', sample_y)"
   ]
  },
  {
   "cell_type": "markdown",
   "metadata": {},
   "source": [
    "# 1. Replication: Hemker (2018)"
   ]
  },
  {
   "cell_type": "markdown",
   "metadata": {},
   "source": [
    "### Hyperparameters"
   ]
  },
  {
   "cell_type": "code",
   "execution_count": 4,
   "metadata": {
    "ExecuteTime": {
     "end_time": "2019-12-07T11:28:29.671627Z",
     "start_time": "2019-12-07T11:28:29.655674Z"
    }
   },
   "outputs": [],
   "source": [
    "sequence_length = tweets.shape[1]  # number of words in a sequence\n",
    "num_epochs = 10\n",
    "learning_rate = 0.01\n",
    "momentum = 0.7\n",
    "vocab_size = len(vocab_to_int)\n",
    "output_size = pd.Series(labels).nunique()\n",
    "embedding_dim = 300\n",
    "hidden_dim = 256\n",
    "n_layers = 1\n",
    "show_every_n_batches = 50\n",
    "cnn_params = (256, 25, 9, 3) # out_channels, kernel_size, stride, padding\n",
    "pool_params = (4, 2, 0)"
   ]
  },
  {
   "cell_type": "markdown",
   "metadata": {},
   "source": [
    "### Model Instantiation"
   ]
  },
  {
   "cell_type": "code",
   "execution_count": null,
   "metadata": {
    "ExecuteTime": {
     "start_time": "2019-12-07T11:28:20.605Z"
    }
   },
   "outputs": [
    {
     "name": "stdout",
     "output_type": "stream",
     "text": [
      "Setting pretrained embedding weights...\n"
     ]
    }
   ],
   "source": [
    "model = HateSpeechClassifier(vocab_size, output_size, embedding_dim, \n",
    "                             cnn_params, pool_params, hidden_dim, n_layers,\n",
    "                             p_dropout = 0,\n",
    "                             embedding_path=\"glove/glove.42B.300d.txt\", \n",
    "                             vocab_to_int=vocab_to_int, train_on_gpu=train_on_gpu)\n",
    "\n",
    "if train_on_gpu:\n",
    "    model.cuda()"
   ]
  },
  {
   "cell_type": "markdown",
   "metadata": {},
   "source": [
    "### Train network"
   ]
  },
  {
   "cell_type": "code",
   "execution_count": 6,
   "metadata": {},
   "outputs": [],
   "source": [
    "optimizer = torch.optim.RMSprop(model.parameters(), lr=learning_rate, momentum=momentum, weight_decay=1e-5)\n",
    "criterion = nn.CrossEntropyLoss()"
   ]
  },
  {
   "cell_type": "code",
   "execution_count": 7,
   "metadata": {},
   "outputs": [
    {
     "name": "stdout",
     "output_type": "stream",
     "text": [
      "Training for 10 epoch(s)...\n",
      "Epoch: 1/10. \tBatch: 50/248.\t Avg. Training Loss: 1.856294195652008\n",
      "Epoch: 1/10. \tBatch: 100/248.\t Avg. Training Loss: 1.4079750180244446\n",
      "Epoch: 1/10. \tBatch: 150/248.\t Avg. Training Loss: 1.2053488653898239\n",
      "Epoch: 1/10. \tBatch: 200/248.\t Avg. Training Loss: 1.0840946029126644\n",
      "Epoch: 1 \tTraining Loss: 1.048205 \tValidation Loss: 0.822882 \t Accuracy: 77.250000\n",
      "\n",
      "Epoch: 2/10. \tBatch: 50/248.\t Avg. Training Loss: 0.7798457258939743\n",
      "Epoch: 2/10. \tBatch: 100/248.\t Avg. Training Loss: 0.8407374864816666\n",
      "Epoch: 2/10. \tBatch: 150/248.\t Avg. Training Loss: 0.8002206651369731\n",
      "Epoch: 2/10. \tBatch: 200/248.\t Avg. Training Loss: 0.7937785339355469\n",
      "Epoch: 2 \tTraining Loss: 0.811580 \tValidation Loss: 0.645776 \t Accuracy: 77.625000\n",
      "\n",
      "Epoch: 3/10. \tBatch: 50/248.\t Avg. Training Loss: 0.7841263580322265\n",
      "Epoch: 3/10. \tBatch: 100/248.\t Avg. Training Loss: 0.7912246978282929\n",
      "Epoch: 3/10. \tBatch: 150/248.\t Avg. Training Loss: 0.8216935082276662\n",
      "Epoch: 3/10. \tBatch: 200/248.\t Avg. Training Loss: 0.81325981721282\n",
      "Epoch: 3 \tTraining Loss: 0.793276 \tValidation Loss: 1.062517 \t Accuracy: 77.458333\n",
      "\n",
      "Epoch: 4/10. \tBatch: 50/248.\t Avg. Training Loss: 0.7929284274578094\n",
      "Epoch: 4/10. \tBatch: 100/248.\t Avg. Training Loss: 0.74843181848526\n",
      "Epoch: 4/10. \tBatch: 150/248.\t Avg. Training Loss: 0.8213499963283539\n",
      "Epoch: 4/10. \tBatch: 200/248.\t Avg. Training Loss: 0.8169292911887169\n",
      "Epoch: 4 \tTraining Loss: 0.796364 \tValidation Loss: 1.080272 \t Accuracy: 77.708333\n",
      "\n",
      "Epoch: 5/10. \tBatch: 50/248.\t Avg. Training Loss: 0.7833780372142791\n",
      "Epoch: 5/10. \tBatch: 100/248.\t Avg. Training Loss: 0.8048141705989837\n",
      "Epoch: 5/10. \tBatch: 150/248.\t Avg. Training Loss: 0.8054171951611837\n",
      "Epoch: 5/10. \tBatch: 200/248.\t Avg. Training Loss: 0.798165291249752\n",
      "Epoch: 5 \tTraining Loss: 0.783684 \tValidation Loss: 1.529192 \t Accuracy: 12.166667\n",
      "\n",
      "Epoch: 6/10. \tBatch: 50/248.\t Avg. Training Loss: 0.8605939590930939\n",
      "Epoch: 6/10. \tBatch: 100/248.\t Avg. Training Loss: 0.7914069682359696\n",
      "Epoch: 6/10. \tBatch: 150/248.\t Avg. Training Loss: 0.8533112106720606\n",
      "Epoch: 6/10. \tBatch: 200/248.\t Avg. Training Loss: 0.9316032533347607\n",
      "Epoch: 6 \tTraining Loss: 0.922180 \tValidation Loss: 0.713764 \t Accuracy: 77.375000\n",
      "\n",
      "Epoch: 7/10. \tBatch: 50/248.\t Avg. Training Loss: 0.7447472488880158\n",
      "Epoch: 7/10. \tBatch: 100/248.\t Avg. Training Loss: 0.8709955221414566\n",
      "Epoch: 7/10. \tBatch: 150/248.\t Avg. Training Loss: 0.8653861081600189\n",
      "Epoch: 7/10. \tBatch: 200/248.\t Avg. Training Loss: 0.8555888387560845\n",
      "Epoch: 7 \tTraining Loss: 0.838644 \tValidation Loss: 0.837731 \t Accuracy: 65.666667\n",
      "\n",
      "Epoch: 8/10. \tBatch: 50/248.\t Avg. Training Loss: 0.7605167031288147\n",
      "Epoch: 8/10. \tBatch: 100/248.\t Avg. Training Loss: 0.733431613445282\n",
      "Epoch: 8/10. \tBatch: 150/248.\t Avg. Training Loss: 0.7422146236896515\n",
      "Epoch: 8/10. \tBatch: 200/248.\t Avg. Training Loss: 0.7576309311389923\n",
      "Epoch: 8 \tTraining Loss: 0.745413 \tValidation Loss: 0.715547 \t Accuracy: 77.041667\n",
      "\n",
      "Epoch: 9/10. \tBatch: 50/248.\t Avg. Training Loss: 0.7583677852153778\n",
      "Epoch: 9/10. \tBatch: 100/248.\t Avg. Training Loss: 0.9075519573688507\n",
      "Epoch: 9/10. \tBatch: 150/248.\t Avg. Training Loss: 0.8827283747990926\n",
      "Epoch: 9/10. \tBatch: 200/248.\t Avg. Training Loss: 0.9065117383003235\n",
      "Epoch: 9 \tTraining Loss: 0.873323 \tValidation Loss: 1.820717 \t Accuracy: 77.208333\n",
      "\n",
      "Epoch: 10/10. \tBatch: 50/248.\t Avg. Training Loss: 0.7716695809364319\n",
      "Epoch: 10/10. \tBatch: 100/248.\t Avg. Training Loss: 0.7743023791909218\n",
      "Epoch: 10/10. \tBatch: 150/248.\t Avg. Training Loss: 0.8090511586268743\n",
      "Epoch: 10/10. \tBatch: 200/248.\t Avg. Training Loss: 0.9483655880391598\n",
      "Epoch: 10 \tTraining Loss: 1.056788 \tValidation Loss: 2.172897 \t Accuracy: 16.250000\n",
      "\n"
     ]
    }
   ],
   "source": [
    "model = train_classifier(model, batch_size, optimizer, criterion, num_epochs, train_loader, valid_loader,\n",
    "                         show_every_n_batches=show_every_n_batches)"
   ]
  },
  {
   "cell_type": "markdown",
   "metadata": {},
   "source": [
    "### Test network"
   ]
  },
  {
   "cell_type": "code",
   "execution_count": 8,
   "metadata": {},
   "outputs": [
    {
     "name": "stdout",
     "output_type": "stream",
     "text": [
      "Test loss: 2.133\n",
      "Test accuracy: 15.9%\n"
     ]
    }
   ],
   "source": [
    "test_loss, test_acc, y_true, y_pred = batch_test(model, batch_size, test_loader, criterion, prnt=True)"
   ]
  },
  {
   "cell_type": "code",
   "execution_count": 9,
   "metadata": {},
   "outputs": [
    {
     "name": "stdout",
     "output_type": "stream",
     "text": [
      "Confusion matrix, without normalization\n",
      "Normalized confusion matrix\n"
     ]
    },
    {
     "data": {
      "image/png": "[encoded data removed]",
      "text/plain": [
       "<Figure size 432x288 with 2 Axes>"
      ]
     },
     "metadata": {
      "needs_background": "light"
     },
     "output_type": "display_data"
    },
    {
     "data": {
      "image/png": "[encoded data removed]",
      "text/plain": [
       "<Figure size 432x288 with 2 Axes>"
      ]
     },
     "metadata": {
      "needs_background": "light"
     },
     "output_type": "display_data"
    }
   ],
   "source": [
    "plot_confusion_matrices(y_true, y_pred)"
   ]
  },
  {
   "cell_type": "code",
   "execution_count": 10,
   "metadata": {},
   "outputs": [],
   "source": [
    "del model\n",
    "torch.cuda.empty_cache()"
   ]
  },
  {
   "cell_type": "markdown",
   "metadata": {},
   "source": [
    "# 2. Learning Rate: 0.01 → 0.001"
   ]
  },
  {
   "cell_type": "markdown",
   "metadata": {},
   "source": [
    "### Hyperparameters"
   ]
  },
  {
   "cell_type": "code",
   "execution_count": 4,
   "metadata": {
    "ExecuteTime": {
     "end_time": "2019-12-07T11:32:18.964060Z",
     "start_time": "2019-12-07T11:32:18.955084Z"
    }
   },
   "outputs": [],
   "source": [
    "sequence_length = tweets.shape[1]  # number of words in a sequence\n",
    "num_epochs = 10\n",
    "learning_rate = 0.001\n",
    "momentum = 0.7\n",
    "vocab_size = len(vocab_to_int)\n",
    "output_size = pd.Series(labels).nunique()\n",
    "embedding_dim = 300\n",
    "hidden_dim = 256\n",
    "n_layers = 1\n",
    "show_every_n_batches = 50\n",
    "cnn_params = (256, 25, 9, 3) # out_channels, kernel_size, stride, padding\n",
    "pool_params = (4, 2, 0)"
   ]
  },
  {
   "cell_type": "markdown",
   "metadata": {},
   "source": [
    "### Model Instantiation"
   ]
  },
  {
   "cell_type": "code",
   "execution_count": 5,
   "metadata": {
    "ExecuteTime": {
     "end_time": "2019-12-07T11:32:27.512736Z",
     "start_time": "2019-12-07T11:32:22.451022Z"
    }
   },
   "outputs": [],
   "source": [
    "model = HateSpeechClassifier(vocab_size, output_size, embedding_dim, \n",
    "                             cnn_params, pool_params, hidden_dim, n_layers,\n",
    "                             p_dropout = 0,\n",
    "                             embedding_path=\"glove/glove.42B.300d.txt\", \n",
    "                             vocab_to_int=vocab_to_int, train_on_gpu=train_on_gpu)\n",
    "\n",
    "if train_on_gpu:\n",
    "    model.cuda()"
   ]
  },
  {
   "cell_type": "markdown",
   "metadata": {},
   "source": [
    "### Train network"
   ]
  },
  {
   "cell_type": "code",
   "execution_count": 6,
   "metadata": {
    "ExecuteTime": {
     "end_time": "2019-12-07T11:32:31.144278Z",
     "start_time": "2019-12-07T11:32:31.138293Z"
    }
   },
   "outputs": [],
   "source": [
    "optimizer = torch.optim.RMSprop(model.parameters(), lr=learning_rate, momentum=momentum, weight_decay=1e-5)\n",
    "criterion = nn.CrossEntropyLoss()"
   ]
  },
  {
   "cell_type": "code",
   "execution_count": 7,
   "metadata": {},
   "outputs": [
    {
     "name": "stdout",
     "output_type": "stream",
     "text": [
      "Training for 10 epoch(s)...\n",
      "Epoch: 1/10. \tBatch: 50/248.\t Avg. Training Loss: 0.5522384712100029\n",
      "Epoch: 1/10. \tBatch: 100/248.\t Avg. Training Loss: 0.465042033046484\n",
      "Epoch: 1/10. \tBatch: 150/248.\t Avg. Training Loss: 0.4230298986037572\n",
      "Epoch: 1/10. \tBatch: 200/248.\t Avg. Training Loss: 0.3985329283773899\n",
      "Epoch: 1 \tTraining Loss: 0.382028 \tValidation Loss: 0.286332 \t Accuracy: 90.208333\n",
      "\n",
      "Validation loss decreased (inf --> 0.286332).  Saving model ...\n",
      "\n",
      "Epoch: 2/10. \tBatch: 50/248.\t Avg. Training Loss: 0.23334313824772834\n",
      "Epoch: 2/10. \tBatch: 100/248.\t Avg. Training Loss: 0.24487640269100666\n",
      "Epoch: 2/10. \tBatch: 150/248.\t Avg. Training Loss: 0.24139328474799793\n",
      "Epoch: 2/10. \tBatch: 200/248.\t Avg. Training Loss: 0.24184272423386574\n",
      "Epoch: 2 \tTraining Loss: 0.243735 \tValidation Loss: 0.289865 \t Accuracy: 90.083333\n",
      "\n",
      "Epoch: 3/10. \tBatch: 50/248.\t Avg. Training Loss: 0.17070538505911828\n",
      "Epoch: 3/10. \tBatch: 100/248.\t Avg. Training Loss: 0.16605306293815375\n",
      "Epoch: 3/10. \tBatch: 150/248.\t Avg. Training Loss: 0.16613968297839166\n",
      "Epoch: 3/10. \tBatch: 200/248.\t Avg. Training Loss: 0.1735907617211342\n",
      "Epoch: 3 \tTraining Loss: 0.170492 \tValidation Loss: 0.321216 \t Accuracy: 88.416667\n",
      "\n",
      "Epoch: 4/10. \tBatch: 50/248.\t Avg. Training Loss: 0.09962762471288443\n",
      "Epoch: 4/10. \tBatch: 100/248.\t Avg. Training Loss: 0.10157001288607717\n",
      "Epoch: 4/10. \tBatch: 150/248.\t Avg. Training Loss: 0.10607378851622343\n",
      "Epoch: 4/10. \tBatch: 200/248.\t Avg. Training Loss: 0.11421657134778798\n",
      "Epoch: 4 \tTraining Loss: 0.119596 \tValidation Loss: 0.389237 \t Accuracy: 89.208333\n",
      "\n",
      "Epoch: 5/10. \tBatch: 50/248.\t Avg. Training Loss: 0.0799001925624907\n",
      "Epoch: 5/10. \tBatch: 100/248.\t Avg. Training Loss: 0.08151597282849252\n",
      "Epoch: 5/10. \tBatch: 150/248.\t Avg. Training Loss: 0.08351021079036097\n",
      "Epoch: 5/10. \tBatch: 200/248.\t Avg. Training Loss: 0.08769531393656507\n",
      "Epoch: 5 \tTraining Loss: 0.089264 \tValidation Loss: 0.497797 \t Accuracy: 87.791667\n",
      "\n",
      "Epoch: 6/10. \tBatch: 50/248.\t Avg. Training Loss: 0.04822212588042021\n",
      "Epoch: 6/10. \tBatch: 100/248.\t Avg. Training Loss: 0.05605711120646447\n",
      "Epoch: 6/10. \tBatch: 150/248.\t Avg. Training Loss: 0.05860076458193362\n",
      "Epoch: 6/10. \tBatch: 200/248.\t Avg. Training Loss: 0.06487878299085423\n",
      "Epoch: 6 \tTraining Loss: 0.068210 \tValidation Loss: 0.474317 \t Accuracy: 87.291667\n",
      "\n",
      "Epoch: 7/10. \tBatch: 50/248.\t Avg. Training Loss: 0.03623579457402229\n",
      "Epoch: 7/10. \tBatch: 100/248.\t Avg. Training Loss: 0.044459614995867015\n",
      "Epoch: 7/10. \tBatch: 150/248.\t Avg. Training Loss: 0.046788965609545506\n",
      "Epoch: 7/10. \tBatch: 200/248.\t Avg. Training Loss: 0.04982215398456901\n",
      "Epoch: 7 \tTraining Loss: 0.053638 \tValidation Loss: 0.507421 \t Accuracy: 86.750000\n",
      "\n",
      "Epoch: 8/10. \tBatch: 50/248.\t Avg. Training Loss: 0.03928954130038619\n",
      "Epoch: 8/10. \tBatch: 100/248.\t Avg. Training Loss: 0.04309720813296735\n",
      "Epoch: 8/10. \tBatch: 150/248.\t Avg. Training Loss: 0.042845003763213756\n",
      "Epoch: 8/10. \tBatch: 200/248.\t Avg. Training Loss: 0.047304282651748505\n",
      "Epoch: 8 \tTraining Loss: 0.050159 \tValidation Loss: 0.473302 \t Accuracy: 88.166667\n",
      "\n",
      "Epoch: 9/10. \tBatch: 50/248.\t Avg. Training Loss: 0.029635616529267283\n",
      "Epoch: 9/10. \tBatch: 100/248.\t Avg. Training Loss: 0.031885866349330175\n",
      "Epoch: 9/10. \tBatch: 150/248.\t Avg. Training Loss: 0.036148948218518245\n",
      "Epoch: 9/10. \tBatch: 200/248.\t Avg. Training Loss: 0.03826191779866349\n",
      "Epoch: 9 \tTraining Loss: 0.042040 \tValidation Loss: 0.504378 \t Accuracy: 88.250000\n",
      "\n",
      "Epoch: 10/10. \tBatch: 50/248.\t Avg. Training Loss: 0.025571274030953647\n",
      "Epoch: 10/10. \tBatch: 100/248.\t Avg. Training Loss: 0.026744955444009975\n",
      "Epoch: 10/10. \tBatch: 150/248.\t Avg. Training Loss: 0.032400008037220686\n",
      "Epoch: 10/10. \tBatch: 200/248.\t Avg. Training Loss: 0.0374926867155591\n",
      "Epoch: 10 \tTraining Loss: 0.041391 \tValidation Loss: 0.537435 \t Accuracy: 87.708333\n",
      "\n"
     ]
    }
   ],
   "source": [
    "model = train_classifier(model, batch_size, optimizer, criterion, num_epochs, train_loader, valid_loader,\n",
    "                         show_every_n_batches=show_every_n_batches, save_path=\"temp_model.pth\")"
   ]
  },
  {
   "cell_type": "code",
   "execution_count": 7,
   "metadata": {
    "ExecuteTime": {
     "end_time": "2019-12-07T11:32:36.133709Z",
     "start_time": "2019-12-07T11:32:36.025998Z"
    }
   },
   "outputs": [
    {
     "data": {
      "text/plain": [
       "<All keys matched successfully>"
      ]
     },
     "execution_count": 7,
     "metadata": {},
     "output_type": "execute_result"
    }
   ],
   "source": [
    "# Load saved model\n",
    "model.load_state_dict(torch.load(\"temp_model.pth\"))"
   ]
  },
  {
   "cell_type": "markdown",
   "metadata": {},
   "source": [
    "### Test network"
   ]
  },
  {
   "cell_type": "code",
   "execution_count": 8,
   "metadata": {
    "ExecuteTime": {
     "end_time": "2019-12-07T11:32:39.560091Z",
     "start_time": "2019-12-07T11:32:38.588705Z"
    }
   },
   "outputs": [
    {
     "name": "stdout",
     "output_type": "stream",
     "text": [
      "Test loss: 0.227\n",
      "Test accuracy: 89.4%\n"
     ]
    }
   ],
   "source": [
    "test_loss, test_acc, y_true, y_pred = batch_test(model, batch_size, test_loader, criterion, prnt=True)"
   ]
  },
  {
   "cell_type": "code",
   "execution_count": 9,
   "metadata": {
    "ExecuteTime": {
     "end_time": "2019-12-07T11:32:42.544857Z",
     "start_time": "2019-12-07T11:32:42.013281Z"
    }
   },
   "outputs": [
    {
     "name": "stdout",
     "output_type": "stream",
     "text": [
      "Confusion matrix, without normalization\n",
      "Normalized confusion matrix\n"
     ]
    },
    {
     "data": {
      "image/png": "[encoded data removed]",
      "text/plain": [
       "<Figure size 432x288 with 2 Axes>"
      ]
     },
     "metadata": {
      "needs_background": "light"
     },
     "output_type": "display_data"
    },
    {
     "data": {
      "image/png": "[encoded data removed]",
      "text/plain": [
       "<Figure size 432x288 with 2 Axes>"
      ]
     },
     "metadata": {
      "needs_background": "light"
     },
     "output_type": "display_data"
    }
   ],
   "source": [
    "plot_confusion_matrices(y_true, y_pred)"
   ]
  },
  {
   "cell_type": "code",
   "execution_count": 18,
   "metadata": {
    "ExecuteTime": {
     "end_time": "2019-12-07T11:37:03.619960Z",
     "start_time": "2019-12-07T11:37:03.608990Z"
    }
   },
   "outputs": [
    {
     "data": {
      "text/plain": [
       "0.8967537496794279"
      ]
     },
     "execution_count": 18,
     "metadata": {},
     "output_type": "execute_result"
    }
   ],
   "source": [
    "from sklearn.metrics import f1_score\n",
    "f1_score(y_true, y_pred, average=\"weighted\")"
   ]
  },
  {
   "cell_type": "code",
   "execution_count": 11,
   "metadata": {},
   "outputs": [],
   "source": [
    "del model\n",
    "torch.cuda.empty_cache()"
   ]
  }
 ],
 "metadata": {
  "kernelspec": {
   "display_name": "Python [conda env:capstone]",
   "language": "python",
   "name": "conda-env-capstone-py"
  },
  "language_info": {
   "codemirror_mode": {
    "name": "ipython",
    "version": 3
   },
   "file_extension": ".py",
   "mimetype": "text/x-python",
   "name": "python",
   "nbconvert_exporter": "python",
   "pygments_lexer": "ipython3",
   "version": "3.7.4"
  },
  "toc": {
   "base_numbering": 1,
   "nav_menu": {},
   "number_sections": true,
   "sideBar": true,
   "skip_h1_title": false,
   "title_cell": "Table of Contents",
   "title_sidebar": "Contents",
   "toc_cell": false,
   "toc_position": {},
   "toc_section_display": true,
   "toc_window_display": false
  },
  "varInspector": {
   "cols": {
    "lenName": 16,
    "lenType": 16,
    "lenVar": 40
   },
   "kernels_config": {
    "python": {
     "delete_cmd_postfix": "",
     "delete_cmd_prefix": "del ",
     "library": "var_list.py",
     "varRefreshCmd": "print(var_dic_list())"
    },
    "r": {
     "delete_cmd_postfix": ") ",
     "delete_cmd_prefix": "rm(",
     "library": "var_list.r",
     "varRefreshCmd": "cat(var_dic_list()) "
    }
   },
   "types_to_exclude": [
    "module",
    "function",
    "builtin_function_or_method",
    "instance",
    "_Feature"
   ],
   "window_display": false
  }
 },
 "nbformat": 4,
 "nbformat_minor": 2
}
