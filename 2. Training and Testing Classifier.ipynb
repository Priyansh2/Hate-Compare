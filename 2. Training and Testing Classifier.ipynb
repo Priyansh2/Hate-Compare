{
 "cells": [
  {
   "cell_type": "code",
   "execution_count": 3,
   "metadata": {
    "ExecuteTime": {
     "end_time": "2020-02-10T06:31:28.295927Z",
     "start_time": "2020-02-10T06:31:28.258026Z"
    }
   },
   "outputs": [
    {
     "name": "stdout",
     "output_type": "stream",
     "text": [
      "Using GPU.\n"
     ]
    }
   ],
   "source": [
    "import torch\n",
    "import json\n",
    "import numpy as np\n",
    "import pandas as pd\n",
    "\n",
    "from torch import nn\n",
    "from sklearn.metrics import f1_score\n",
    "from utils import get_loaders\n",
    "from classifier_utils import HateSpeechClassifier, forward_back_prop, \\\n",
    "                             train_classifier, batch_test, plot_confusion_matrices\n",
    "\n",
    "tweets = np.load(\"data/tweets.npy\")\n",
    "labels = np.load(\"data/hate_original.npy\")\n",
    "\n",
    "with open('vocab_to_int.json', 'r') as fp:\n",
    "    vocab_to_int = json.load(fp)\n",
    "\n",
    "with open('int_to_vocab.json', 'r') as fp:\n",
    "    int_to_vocab = json.load(fp)\n",
    "    \n",
    "train_on_gpu = torch.cuda.is_available()\n",
    "print(\"Using GPU.\" if train_on_gpu else \"Using CPU.\")"
   ]
  },
  {
   "cell_type": "markdown",
   "metadata": {},
   "source": [
    "### Creating the Training, Validation, and Test Sets"
   ]
  },
  {
   "cell_type": "code",
   "execution_count": 4,
   "metadata": {
    "ExecuteTime": {
     "end_time": "2020-02-10T06:31:28.927801Z",
     "start_time": "2020-02-10T06:31:28.909875Z"
    }
   },
   "outputs": [
    {
     "name": "stdout",
     "output_type": "stream",
     "text": [
      "\t\t\tFeature Shapes:\n",
      "Train set: \t\t(19826, 100) \n",
      "Validation set: \t(2478, 100) \n",
      "Test set: \t\t(2479, 100)\n"
     ]
    }
   ],
   "source": [
    "batch_size = 80\n",
    "train_loader, valid_loader, test_loader = get_loaders(tweets, labels, \n",
    "                                                      train_frac=0.8, remain_split_frac=0.5, \n",
    "                                                      batch_size=batch_size)"
   ]
  },
  {
   "cell_type": "code",
   "execution_count": 5,
   "metadata": {
    "ExecuteTime": {
     "end_time": "2020-02-10T06:31:29.369611Z",
     "start_time": "2020-02-10T06:31:29.355684Z"
    }
   },
   "outputs": [
    {
     "name": "stdout",
     "output_type": "stream",
     "text": [
      "Sample input size:  torch.Size([80, 100])\n",
      "Sample input: \n",
      " tensor([[    0,     0,     0,  ..., 11482, 12514, 12074],\n",
      "        [    0,     0,     0,  ..., 16982,  8043, 18520],\n",
      "        [    0,     0,     0,  ...,  5932,  5932,  5932],\n",
      "        ...,\n",
      "        [    0,     0,     0,  ..., 13793, 13942, 12074],\n",
      "        [    0,     0,     0,  ..., 18159, 20048,  3029],\n",
      "        [    0,     0,     0,  ...,  2025, 18805,  2025]], dtype=torch.int32)\n",
      "\n",
      "Sample label size:  torch.Size([80])\n",
      "Sample label: \n",
      " tensor([1, 1, 1, 1, 1, 2, 1, 1, 1, 2, 1, 1, 1, 1, 1, 2, 1, 2, 0, 1, 1, 1, 2, 1,\n",
      "        1, 1, 1, 1, 1, 1, 1, 1, 1, 0, 1, 2, 2, 2, 0, 1, 1, 1, 1, 1, 1, 1, 1, 1,\n",
      "        1, 1, 2, 0, 2, 1, 2, 1, 1, 1, 1, 0, 1, 1, 1, 1, 1, 1, 2, 1, 0, 2, 2, 1,\n",
      "        1, 2, 1, 1, 1, 1, 2, 1])\n"
     ]
    }
   ],
   "source": [
    "# obtain one batch of training data\n",
    "dataiter = iter(train_loader)\n",
    "sample_x, sample_y = dataiter.next()\n",
    "\n",
    "print('Sample input size: ', sample_x.size()) # batch_size, seq_length\n",
    "print('Sample input: \\n', sample_x)\n",
    "print()\n",
    "print('Sample label size: ', sample_y.size()) # batch_size\n",
    "print('Sample label: \\n', sample_y)"
   ]
  },
  {
   "cell_type": "markdown",
   "metadata": {},
   "source": [
    "# 1. Replication: Hemker (2018)"
   ]
  },
  {
   "cell_type": "markdown",
   "metadata": {},
   "source": [
    "### Hyperparameters"
   ]
  },
  {
   "cell_type": "code",
   "execution_count": 4,
   "metadata": {
    "ExecuteTime": {
     "end_time": "2020-02-10T05:47:52.408609Z",
     "start_time": "2020-02-10T05:47:52.397636Z"
    }
   },
   "outputs": [],
   "source": [
    "sequence_length = tweets.shape[1]  # number of words in a sequence\n",
    "num_epochs = 10\n",
    "learning_rate = 0.01\n",
    "momentum = 0.7\n",
    "vocab_size = len(vocab_to_int)\n",
    "output_size = pd.Series(labels).nunique()\n",
    "embedding_dim = 300\n",
    "hidden_dim = 256\n",
    "n_layers = 1\n",
    "show_every_n_batches = 50\n",
    "cnn_params = (256, 25, 9, 3) # out_channels, kernel_size, stride, padding\n",
    "pool_params = (4, 2, 0)"
   ]
  },
  {
   "cell_type": "markdown",
   "metadata": {},
   "source": [
    "### Model Instantiation"
   ]
  },
  {
   "cell_type": "code",
   "execution_count": 5,
   "metadata": {
    "ExecuteTime": {
     "end_time": "2020-02-10T06:00:16.884714Z",
     "start_time": "2020-02-10T05:47:52.410597Z"
    }
   },
   "outputs": [
    {
     "name": "stdout",
     "output_type": "stream",
     "text": [
      "Setting pretrained embedding weights...\n",
      "3362 words in the vocabulary have no pre-trained embedding.\n"
     ]
    }
   ],
   "source": [
    "model = HateSpeechClassifier(vocab_size, output_size, embedding_dim, \n",
    "                             cnn_params, pool_params, hidden_dim, n_layers,\n",
    "                             p_dropout = 0,\n",
    "                             embedding_path=\"glove/glove.42B.300d.txt\", \n",
    "                             vocab_to_int=vocab_to_int, train_on_gpu=train_on_gpu)\n",
    "\n",
    "if train_on_gpu:\n",
    "    model.cuda()"
   ]
  },
  {
   "cell_type": "markdown",
   "metadata": {},
   "source": [
    "### Train network"
   ]
  },
  {
   "cell_type": "code",
   "execution_count": 6,
   "metadata": {
    "ExecuteTime": {
     "end_time": "2020-02-10T06:00:16.894712Z",
     "start_time": "2020-02-10T06:00:16.887698Z"
    }
   },
   "outputs": [],
   "source": [
    "optimizer = torch.optim.RMSprop(model.parameters(), lr=learning_rate, momentum=momentum, weight_decay=1e-5)\n",
    "criterion = nn.CrossEntropyLoss()"
   ]
  },
  {
   "cell_type": "code",
   "execution_count": 7,
   "metadata": {
    "ExecuteTime": {
     "end_time": "2020-02-10T06:02:27.641675Z",
     "start_time": "2020-02-10T06:00:16.896679Z"
    }
   },
   "outputs": [
    {
     "name": "stdout",
     "output_type": "stream",
     "text": [
      "Training for 10 epoch(s)...\n",
      "Epoch: 1/10. \tBatch: 50/248.\t Avg. Training Loss: 1.80878200173378\n",
      "Epoch: 1/10. \tBatch: 100/248.\t Avg. Training Loss: 1.7172680473327637\n",
      "Epoch: 1/10. \tBatch: 150/248.\t Avg. Training Loss: 1.4060333935419718\n",
      "Epoch: 1/10. \tBatch: 200/248.\t Avg. Training Loss: 1.2487317737936974\n",
      "Epoch: 1 \tTraining Loss: 1.163507 \tValidation Loss: 1.431189 \t Accuracy: 5.500000\n",
      "\n",
      "Epoch: 2/10. \tBatch: 50/248.\t Avg. Training Loss: 0.9025145483016968\n",
      "Epoch: 2/10. \tBatch: 100/248.\t Avg. Training Loss: 0.8209758350253105\n",
      "Epoch: 2/10. \tBatch: 150/248.\t Avg. Training Loss: 0.8519191827376683\n",
      "Epoch: 2/10. \tBatch: 200/248.\t Avg. Training Loss: 0.846410525739193\n",
      "Epoch: 2 \tTraining Loss: 0.828247 \tValidation Loss: 1.044822 \t Accuracy: 22.583333\n",
      "\n",
      "Epoch: 3/10. \tBatch: 50/248.\t Avg. Training Loss: 0.7955399417877197\n",
      "Epoch: 3/10. \tBatch: 100/248.\t Avg. Training Loss: 0.7944435286521911\n",
      "Epoch: 3/10. \tBatch: 150/248.\t Avg. Training Loss: 0.7786097143093745\n",
      "Epoch: 3/10. \tBatch: 200/248.\t Avg. Training Loss: 0.7589467914402485\n",
      "Epoch: 3 \tTraining Loss: 0.761889 \tValidation Loss: 0.878825 \t Accuracy: 77.791667\n",
      "\n",
      "Epoch: 4/10. \tBatch: 50/248.\t Avg. Training Loss: 0.7479719638824462\n",
      "Epoch: 4/10. \tBatch: 100/248.\t Avg. Training Loss: 0.8139042520523071\n",
      "Epoch: 4/10. \tBatch: 150/248.\t Avg. Training Loss: 0.8209109409650167\n",
      "Epoch: 4/10. \tBatch: 200/248.\t Avg. Training Loss: 0.8196619965136052\n",
      "Epoch: 4 \tTraining Loss: 0.803039 \tValidation Loss: 0.842802 \t Accuracy: 77.458333\n",
      "\n",
      "Epoch: 5/10. \tBatch: 50/248.\t Avg. Training Loss: 0.8007898092269897\n",
      "Epoch: 5/10. \tBatch: 100/248.\t Avg. Training Loss: 0.8109862965345382\n",
      "Epoch: 5/10. \tBatch: 150/248.\t Avg. Training Loss: 0.8095069150129954\n",
      "Epoch: 5/10. \tBatch: 200/248.\t Avg. Training Loss: 0.8274568372964859\n",
      "Epoch: 5 \tTraining Loss: 0.809482 \tValidation Loss: 0.853431 \t Accuracy: 72.500000\n",
      "\n",
      "Epoch: 6/10. \tBatch: 50/248.\t Avg. Training Loss: 1.334180983901024\n",
      "Epoch: 6/10. \tBatch: 100/248.\t Avg. Training Loss: 1.0227783718705177\n",
      "Epoch: 6/10. \tBatch: 150/248.\t Avg. Training Loss: 0.9597913924853007\n",
      "Epoch: 6/10. \tBatch: 200/248.\t Avg. Training Loss: 0.9622742711007595\n",
      "Epoch: 6 \tTraining Loss: 0.910437 \tValidation Loss: 0.711111 \t Accuracy: 77.500000\n",
      "\n",
      "Epoch: 7/10. \tBatch: 50/248.\t Avg. Training Loss: 0.9230588698387145\n",
      "Epoch: 7/10. \tBatch: 100/248.\t Avg. Training Loss: 0.9784450769424439\n",
      "Epoch: 7/10. \tBatch: 150/248.\t Avg. Training Loss: 0.9322267671426138\n",
      "Epoch: 7/10. \tBatch: 200/248.\t Avg. Training Loss: 0.9079720038175583\n",
      "Epoch: 7 \tTraining Loss: 0.866602 \tValidation Loss: 0.640900 \t Accuracy: 77.500000\n",
      "\n",
      "Epoch: 8/10. \tBatch: 50/248.\t Avg. Training Loss: 0.7278276062011719\n",
      "Epoch: 8/10. \tBatch: 100/248.\t Avg. Training Loss: 0.7080667009949684\n",
      "Epoch: 8/10. \tBatch: 150/248.\t Avg. Training Loss: 0.7229903896649679\n",
      "Epoch: 8/10. \tBatch: 200/248.\t Avg. Training Loss: 0.7323137098550796\n",
      "Epoch: 8 \tTraining Loss: 0.736179 \tValidation Loss: 0.974835 \t Accuracy: 60.500000\n",
      "\n",
      "Epoch: 9/10. \tBatch: 50/248.\t Avg. Training Loss: 1.4523659032583236\n",
      "Epoch: 9/10. \tBatch: 100/248.\t Avg. Training Loss: 1.1138272732496262\n",
      "Epoch: 9/10. \tBatch: 150/248.\t Avg. Training Loss: 1.04633671939373\n",
      "Epoch: 9/10. \tBatch: 200/248.\t Avg. Training Loss: 1.0717524452507496\n",
      "Epoch: 9 \tTraining Loss: 1.087255 \tValidation Loss: 0.943175 \t Accuracy: 77.708333\n",
      "\n",
      "Epoch: 10/10. \tBatch: 50/248.\t Avg. Training Loss: 0.7557293725013733\n",
      "Epoch: 10/10. \tBatch: 100/248.\t Avg. Training Loss: 0.7686101704835892\n",
      "Epoch: 10/10. \tBatch: 150/248.\t Avg. Training Loss: 0.7631973085800806\n",
      "Epoch: 10/10. \tBatch: 200/248.\t Avg. Training Loss: 0.8363699288666249\n",
      "Epoch: 10 \tTraining Loss: 0.816847 \tValidation Loss: 1.526496 \t Accuracy: 17.083333\n",
      "\n"
     ]
    }
   ],
   "source": [
    "model = train_classifier(model, batch_size, optimizer, criterion, num_epochs, train_loader, valid_loader,\n",
    "                         show_every_n_batches=show_every_n_batches)"
   ]
  },
  {
   "cell_type": "markdown",
   "metadata": {},
   "source": [
    "### Test network"
   ]
  },
  {
   "cell_type": "code",
   "execution_count": 8,
   "metadata": {
    "ExecuteTime": {
     "end_time": "2020-02-10T06:02:27.933171Z",
     "start_time": "2020-02-10T06:02:27.646656Z"
    }
   },
   "outputs": [
    {
     "name": "stdout",
     "output_type": "stream",
     "text": [
      "Test loss: 1.548\n",
      "Test accuracy: 16.8%\n"
     ]
    }
   ],
   "source": [
    "test_loss, test_acc, y_true, y_pred = batch_test(model, batch_size, test_loader, criterion, prnt=True)"
   ]
  },
  {
   "cell_type": "code",
   "execution_count": 9,
   "metadata": {
    "ExecuteTime": {
     "end_time": "2020-02-10T06:02:27.982701Z",
     "start_time": "2020-02-10T06:02:27.936132Z"
    }
   },
   "outputs": [
    {
     "name": "stdout",
     "output_type": "stream",
     "text": [
      "F1 Scores : 0.000, 0.000, 0.295\n"
     ]
    },
    {
     "name": "stderr",
     "output_type": "stream",
     "text": [
      "C:\\ProgramData\\Anaconda3\\envs\\capstone\\lib\\site-packages\\sklearn\\metrics\\classification.py:1439: UndefinedMetricWarning: F-score is ill-defined and being set to 0.0 in labels with no true samples.\n",
      "  'recall', 'true', average, warn_for)\n"
     ]
    }
   ],
   "source": [
    "print(\"F1 Scores : {:.3f}, {:.3f}, {:.3f}\".format(*f1_score(y_pred, y_true, average=None)))"
   ]
  },
  {
   "cell_type": "code",
   "execution_count": 10,
   "metadata": {
    "ExecuteTime": {
     "end_time": "2020-02-10T06:02:28.526701Z",
     "start_time": "2020-02-10T06:02:27.984667Z"
    }
   },
   "outputs": [
    {
     "name": "stdout",
     "output_type": "stream",
     "text": [
      "Confusion matrix, without normalization\n",
      "Normalized confusion matrix\n"
     ]
    },
    {
     "data": {
      "image/png": "[encoded data removed]",
      "text/plain": [
       "<Figure size 432x288 with 2 Axes>"
      ]
     },
     "metadata": {
      "needs_background": "light"
     },
     "output_type": "display_data"
    },
    {
     "data": {
      "image/png": "[encoded data removed]",
      "text/plain": [
       "<Figure size 432x288 with 2 Axes>"
      ]
     },
     "metadata": {
      "needs_background": "light"
     },
     "output_type": "display_data"
    }
   ],
   "source": [
    "plot_confusion_matrices(y_true, y_pred)"
   ]
  },
  {
   "cell_type": "code",
   "execution_count": 11,
   "metadata": {
    "ExecuteTime": {
     "end_time": "2020-02-10T06:02:29.247233Z",
     "start_time": "2020-02-10T06:02:28.528692Z"
    }
   },
   "outputs": [],
   "source": [
    "del model\n",
    "torch.cuda.empty_cache()"
   ]
  },
  {
   "cell_type": "markdown",
   "metadata": {},
   "source": [
    "# 2. Learning Rate: 0.01 → 0.001"
   ]
  },
  {
   "cell_type": "markdown",
   "metadata": {},
   "source": [
    "### Hyperparameters"
   ]
  },
  {
   "cell_type": "code",
   "execution_count": 6,
   "metadata": {
    "ExecuteTime": {
     "end_time": "2020-02-10T06:31:32.746852Z",
     "start_time": "2020-02-10T06:31:32.739871Z"
    }
   },
   "outputs": [],
   "source": [
    "sequence_length = tweets.shape[1]  # number of words in a sequence\n",
    "num_epochs = 10\n",
    "learning_rate = 0.001\n",
    "momentum = 0.7\n",
    "vocab_size = len(vocab_to_int)\n",
    "output_size = pd.Series(labels).nunique()\n",
    "embedding_dim = 300\n",
    "hidden_dim = 256\n",
    "n_layers = 1\n",
    "show_every_n_batches = 50\n",
    "cnn_params = (256, 25, 9, 3) # out_channels, kernel_size, stride, padding\n",
    "pool_params = (4, 2, 0)"
   ]
  },
  {
   "cell_type": "markdown",
   "metadata": {},
   "source": [
    "### Model Instantiation"
   ]
  },
  {
   "cell_type": "code",
   "execution_count": 7,
   "metadata": {
    "ExecuteTime": {
     "end_time": "2020-02-10T06:42:23.902713Z",
     "start_time": "2020-02-10T06:31:33.260233Z"
    }
   },
   "outputs": [
    {
     "name": "stdout",
     "output_type": "stream",
     "text": [
      "Setting pretrained embedding weights...\n",
      "3362 words in the vocabulary have no pre-trained embedding.\n"
     ]
    }
   ],
   "source": [
    "model = HateSpeechClassifier(vocab_size, output_size, embedding_dim, \n",
    "                             cnn_params, pool_params, hidden_dim, n_layers,\n",
    "                             p_dropout = 0,\n",
    "                             embedding_path=\"glove/glove.42B.300d.txt\", \n",
    "                             vocab_to_int=vocab_to_int, train_on_gpu=train_on_gpu)\n",
    "\n",
    "if train_on_gpu:\n",
    "    model.cuda()"
   ]
  },
  {
   "cell_type": "markdown",
   "metadata": {},
   "source": [
    "### Train network"
   ]
  },
  {
   "cell_type": "code",
   "execution_count": 8,
   "metadata": {
    "ExecuteTime": {
     "end_time": "2020-02-10T06:42:24.099038Z",
     "start_time": "2020-02-10T06:42:24.094023Z"
    }
   },
   "outputs": [],
   "source": [
    "optimizer = torch.optim.RMSprop(model.parameters(), lr=learning_rate, momentum=momentum, weight_decay=1e-5)\n",
    "criterion = nn.CrossEntropyLoss()"
   ]
  },
  {
   "cell_type": "code",
   "execution_count": 9,
   "metadata": {
    "ExecuteTime": {
     "end_time": "2020-02-10T06:44:26.120384Z",
     "start_time": "2020-02-10T06:42:24.267650Z"
    }
   },
   "outputs": [
    {
     "name": "stdout",
     "output_type": "stream",
     "text": [
      "Training for 10 epoch(s)...\n",
      "Epoch: 1/10. \tBatch: 50/248.\t Avg. Training Loss: 0.5549421525001526\n",
      "Epoch: 1/10. \tBatch: 100/248.\t Avg. Training Loss: 0.4628845199942589\n",
      "Epoch: 1/10. \tBatch: 150/248.\t Avg. Training Loss: 0.4183327858646711\n",
      "Epoch: 1/10. \tBatch: 200/248.\t Avg. Training Loss: 0.39938925080001353\n",
      "Epoch: 1 \tTraining Loss: 0.380695 \tValidation Loss: 0.314797 \t Accuracy: 89.500000\n",
      "\n",
      "Validation loss decreased (inf --> 0.314797).  Saving model ...\n",
      "\n",
      "Epoch: 2/10. \tBatch: 50/248.\t Avg. Training Loss: 0.24989224642515181\n",
      "Epoch: 2/10. \tBatch: 100/248.\t Avg. Training Loss: 0.23520538579672576\n",
      "Epoch: 2/10. \tBatch: 150/248.\t Avg. Training Loss: 0.24161797610421976\n",
      "Epoch: 2/10. \tBatch: 200/248.\t Avg. Training Loss: 0.24050192831084133\n",
      "Epoch: 2 \tTraining Loss: 0.242670 \tValidation Loss: 0.297789 \t Accuracy: 89.083333\n",
      "\n",
      "Validation loss decreased (0.314797 --> 0.297789).  Saving model ...\n",
      "\n",
      "Epoch: 3/10. \tBatch: 50/248.\t Avg. Training Loss: 0.17147704899311067\n",
      "Epoch: 3/10. \tBatch: 100/248.\t Avg. Training Loss: 0.16324594659730793\n",
      "Epoch: 3/10. \tBatch: 150/248.\t Avg. Training Loss: 0.16844583400835594\n",
      "Epoch: 3/10. \tBatch: 200/248.\t Avg. Training Loss: 0.17126888020895423\n",
      "Epoch: 3 \tTraining Loss: 0.174050 \tValidation Loss: 0.333832 \t Accuracy: 89.083333\n",
      "\n",
      "Epoch: 4/10. \tBatch: 50/248.\t Avg. Training Loss: 0.10904589597135782\n",
      "Epoch: 4/10. \tBatch: 100/248.\t Avg. Training Loss: 0.10697788424789906\n",
      "Epoch: 4/10. \tBatch: 150/248.\t Avg. Training Loss: 0.11230326017985741\n",
      "Epoch: 4/10. \tBatch: 200/248.\t Avg. Training Loss: 0.11610186991281807\n",
      "Epoch: 4 \tTraining Loss: 0.119099 \tValidation Loss: 0.399713 \t Accuracy: 88.958333\n",
      "\n",
      "Epoch: 5/10. \tBatch: 50/248.\t Avg. Training Loss: 0.062442443892359735\n",
      "Epoch: 5/10. \tBatch: 100/248.\t Avg. Training Loss: 0.07312622318044305\n",
      "Epoch: 5/10. \tBatch: 150/248.\t Avg. Training Loss: 0.07590357550730308\n",
      "Epoch: 5/10. \tBatch: 200/248.\t Avg. Training Loss: 0.07847716298419982\n",
      "Epoch: 5 \tTraining Loss: 0.081925 \tValidation Loss: 0.442176 \t Accuracy: 88.583333\n",
      "\n",
      "Epoch: 6/10. \tBatch: 50/248.\t Avg. Training Loss: 0.03754138187970966\n",
      "Epoch: 6/10. \tBatch: 100/248.\t Avg. Training Loss: 0.05059618848841638\n",
      "Epoch: 6/10. \tBatch: 150/248.\t Avg. Training Loss: 0.05281652417965233\n",
      "Epoch: 6/10. \tBatch: 200/248.\t Avg. Training Loss: 0.057350524535868315\n",
      "Epoch: 6 \tTraining Loss: 0.062495 \tValidation Loss: 0.493345 \t Accuracy: 86.708333\n",
      "\n",
      "Epoch: 7/10. \tBatch: 50/248.\t Avg. Training Loss: 0.035293270519468935\n",
      "Epoch: 7/10. \tBatch: 100/248.\t Avg. Training Loss: 0.04096742591937073\n",
      "Epoch: 7/10. \tBatch: 150/248.\t Avg. Training Loss: 0.04442762242242073\n",
      "Epoch: 7/10. \tBatch: 200/248.\t Avg. Training Loss: 0.04618987818772439\n",
      "Epoch: 7 \tTraining Loss: 0.051381 \tValidation Loss: 0.516891 \t Accuracy: 88.208333\n",
      "\n",
      "Epoch: 8/10. \tBatch: 50/248.\t Avg. Training Loss: 0.032563488832674924\n",
      "Epoch: 8/10. \tBatch: 100/248.\t Avg. Training Loss: 0.03552508082473651\n",
      "Epoch: 8/10. \tBatch: 150/248.\t Avg. Training Loss: 0.038404585677199066\n",
      "Epoch: 8/10. \tBatch: 200/248.\t Avg. Training Loss: 0.041778363807825375\n",
      "Epoch: 8 \tTraining Loss: 0.045354 \tValidation Loss: 0.563572 \t Accuracy: 87.541667\n",
      "\n",
      "Epoch: 9/10. \tBatch: 50/248.\t Avg. Training Loss: 0.025609739914070815\n",
      "Epoch: 9/10. \tBatch: 100/248.\t Avg. Training Loss: 0.029074354293989017\n",
      "Epoch: 9/10. \tBatch: 150/248.\t Avg. Training Loss: 0.03549355072357381\n",
      "Epoch: 9/10. \tBatch: 200/248.\t Avg. Training Loss: 0.03963809768378269\n",
      "Epoch: 9 \tTraining Loss: 0.041294 \tValidation Loss: 0.617605 \t Accuracy: 87.708333\n",
      "\n",
      "Epoch: 10/10. \tBatch: 50/248.\t Avg. Training Loss: 0.017783722042804585\n",
      "Epoch: 10/10. \tBatch: 100/248.\t Avg. Training Loss: 0.022551327341934668\n",
      "Epoch: 10/10. \tBatch: 150/248.\t Avg. Training Loss: 0.030777627031784504\n",
      "Epoch: 10/10. \tBatch: 200/248.\t Avg. Training Loss: 0.03829150593432132\n",
      "Epoch: 10 \tTraining Loss: 0.042311 \tValidation Loss: 0.544720 \t Accuracy: 87.458333\n",
      "\n"
     ]
    }
   ],
   "source": [
    "model = train_classifier(model, batch_size, optimizer, criterion, num_epochs, train_loader, valid_loader,\n",
    "                         show_every_n_batches=show_every_n_batches, save_path=\"temp_model.pth\")"
   ]
  },
  {
   "cell_type": "code",
   "execution_count": 10,
   "metadata": {
    "ExecuteTime": {
     "end_time": "2020-02-10T06:44:26.414148Z",
     "start_time": "2020-02-10T06:44:26.351276Z"
    }
   },
   "outputs": [
    {
     "data": {
      "text/plain": [
       "<All keys matched successfully>"
      ]
     },
     "execution_count": 10,
     "metadata": {},
     "output_type": "execute_result"
    }
   ],
   "source": [
    "# Load saved model\n",
    "model.load_state_dict(torch.load(\"temp_model.pth\"))"
   ]
  },
  {
   "cell_type": "markdown",
   "metadata": {},
   "source": [
    "### Test network"
   ]
  },
  {
   "cell_type": "code",
   "execution_count": 11,
   "metadata": {
    "ExecuteTime": {
     "end_time": "2020-02-10T06:44:26.873435Z",
     "start_time": "2020-02-10T06:44:26.601158Z"
    }
   },
   "outputs": [
    {
     "name": "stdout",
     "output_type": "stream",
     "text": [
      "Test loss: 0.296\n",
      "Test accuracy: 86.0%\n"
     ]
    }
   ],
   "source": [
    "test_loss, test_acc, y_true, y_pred = batch_test(model, batch_size, test_loader, criterion, prnt=True)"
   ]
  },
  {
   "cell_type": "code",
   "execution_count": 12,
   "metadata": {
    "ExecuteTime": {
     "end_time": "2020-02-10T06:44:27.576625Z",
     "start_time": "2020-02-10T06:44:27.123743Z"
    }
   },
   "outputs": [
    {
     "name": "stdout",
     "output_type": "stream",
     "text": [
      "Confusion matrix, without normalization\n",
      "Normalized confusion matrix\n"
     ]
    },
    {
     "data": {
      "image/png": "[encoded data removed]",
      "text/plain": [
       "<Figure size 432x288 with 2 Axes>"
      ]
     },
     "metadata": {
      "needs_background": "light"
     },
     "output_type": "display_data"
    },
    {
     "data": {
      "image/png": "[encoded data removed]",
      "text/plain": [
       "<Figure size 432x288 with 2 Axes>"
      ]
     },
     "metadata": {
      "needs_background": "light"
     },
     "output_type": "display_data"
    }
   ],
   "source": [
    "plot_confusion_matrices(y_true, y_pred)"
   ]
  },
  {
   "cell_type": "code",
   "execution_count": 13,
   "metadata": {
    "ExecuteTime": {
     "end_time": "2020-02-10T06:44:27.823447Z",
     "start_time": "2020-02-10T06:44:27.809486Z"
    }
   },
   "outputs": [
    {
     "name": "stdout",
     "output_type": "stream",
     "text": [
      "F1 Scores : 0.226, 0.936, 0.830\n"
     ]
    }
   ],
   "source": [
    "print(\"F1 Scores : {:.3f}, {:.3f}, {:.3f}\".format(*f1_score(y_pred, y_true, average=None)))"
   ]
  },
  {
   "cell_type": "code",
   "execution_count": 14,
   "metadata": {
    "ExecuteTime": {
     "end_time": "2020-02-10T06:44:28.636873Z",
     "start_time": "2020-02-10T06:44:28.036479Z"
    }
   },
   "outputs": [],
   "source": [
    "del model\n",
    "torch.cuda.empty_cache()"
   ]
  }
 ],
 "metadata": {
  "kernelspec": {
   "display_name": "Python [conda env:capstone]",
   "language": "python",
   "name": "conda-env-capstone-py"
  },
  "language_info": {
   "codemirror_mode": {
    "name": "ipython",
    "version": 3
   },
   "file_extension": ".py",
   "mimetype": "text/x-python",
   "name": "python",
   "nbconvert_exporter": "python",
   "pygments_lexer": "ipython3",
   "version": "3.7.4"
  },
  "toc": {
   "base_numbering": 1,
   "nav_menu": {},
   "number_sections": true,
   "sideBar": true,
   "skip_h1_title": false,
   "title_cell": "Table of Contents",
   "title_sidebar": "Contents",
   "toc_cell": false,
   "toc_position": {},
   "toc_section_display": true,
   "toc_window_display": false
  },
  "varInspector": {
   "cols": {
    "lenName": 16,
    "lenType": 16,
    "lenVar": 40
   },
   "kernels_config": {
    "python": {
     "delete_cmd_postfix": "",
     "delete_cmd_prefix": "del ",
     "library": "var_list.py",
     "varRefreshCmd": "print(var_dic_list())"
    },
    "r": {
     "delete_cmd_postfix": ") ",
     "delete_cmd_prefix": "rm(",
     "library": "var_list.r",
     "varRefreshCmd": "cat(var_dic_list()) "
    }
   },
   "types_to_exclude": [
    "module",
    "function",
    "builtin_function_or_method",
    "instance",
    "_Feature"
   ],
   "window_display": false
  }
 },
 "nbformat": 4,
 "nbformat_minor": 2
}
