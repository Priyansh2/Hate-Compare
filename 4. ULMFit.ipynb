{
 "cells": [
  {
   "cell_type": "markdown",
   "metadata": {},
   "source": [
    "# Transfer Learning\n",
    "\n",
    "Closely modeled after fast.ai's [NLP course](https://github.com/fastai/course-nlp)."
   ]
  },
  {
   "cell_type": "markdown",
   "metadata": {},
   "source": [
    "### Settings & Imports"
   ]
  },
  {
   "cell_type": "code",
   "execution_count": 2,
   "metadata": {},
   "outputs": [],
   "source": [
    "%reload_ext autoreload\n",
    "%autoreload 2\n",
    "%matplotlib inline"
   ]
  },
  {
   "cell_type": "code",
   "execution_count": 3,
   "metadata": {},
   "outputs": [],
   "source": [
    "from fastai import *\n",
    "from fastai.text import *\n",
    "import os.path"
   ]
  },
  {
   "cell_type": "markdown",
   "metadata": {},
   "source": [
    "### Data Preprocessing"
   ]
  },
  {
   "cell_type": "code",
   "execution_count": 8,
   "metadata": {},
   "outputs": [],
   "source": [
    "path = \"./Replications/Davidson2017/data\""
   ]
  },
  {
   "cell_type": "code",
   "execution_count": 29,
   "metadata": {},
   "outputs": [
    {
     "name": "stdout",
     "output_type": "stream",
     "text": [
      "Loading saved data files...\n",
      "\n"
     ]
    }
   ],
   "source": [
    "bs = 32  # Batch size\n",
    "\n",
    "# If files have been saved, load them.\n",
    "if os.path.exists(path + \"/data_lm_export.pkl\"):\n",
    "    \n",
    "    print(\"Loading saved data files...\\n\")\n",
    "    \n",
    "    data_lm = load_data(path, 'data_lm_export.pkl')\n",
    "    data_clas = load_data(path, 'data_clas_export.pkl', bs=bs)\n",
    "    \n",
    "else:\n",
    "    \n",
    "    print(\"Files not found. Creating data files...\\n\")\n",
    "    \n",
    "    # Language model data\n",
    "    data_lm = TextLMDataBunch.from_csv(path, 'labeled_data.csv', text_cols='tweet')\n",
    "    # Classifier model data\n",
    "    data_clas = TextClasDataBunch.from_csv(path, 'labeled_data.csv', text_cols='tweet', label_cols='class', \n",
    "                                           vocab = data_lm.train_ds.vocab, bs=bs)\n",
    "    \n",
    "    # Save files\n",
    "    data_lm.save('data_lm_export.pkl')\n",
    "    data_clas.save('data_clas_export.pkl')"
   ]
  },
  {
   "cell_type": "code",
   "execution_count": 30,
   "metadata": {},
   "outputs": [
    {
     "data": {
      "text/html": [
       "<table border=\"1\" class=\"dataframe\">\n",
       "  <thead>\n",
       "    <tr style=\"text-align: right;\">\n",
       "      <th>idx</th>\n",
       "      <th>text</th>\n",
       "    </tr>\n",
       "  </thead>\n",
       "  <tbody>\n",
       "    <tr>\n",
       "      <td>0</td>\n",
       "      <td>security , please ignore any foreign threats and focus your sole attention on our police force # xxup xxunk # xxup xxunk xxbos xxmaj this bitch @lvl_7_eevee buys xxunk water . xxbos xxunk you a bitch tho i know for sure i 'm not . xxmaj you 'd get your ass beat by any of my bitches that 's fact 😂 😂 xxbos xxmaj that 's yo bitch xxrep 5</td>\n",
       "    </tr>\n",
       "    <tr>\n",
       "      <td>1</td>\n",
       "      <td>then be xxunk when she taking care of it by herself ? xxbos i coulda xxunk i was the last bitch on tunchi ig 💁 ✌ ️ 😘 xxbos @nasshrodriguez @linndaroose always down patty never been a pussy 😼 xxbos “ xxunk _ : xxmaj that pussy so wet she got ta dry xxunk telling my business xxbos i 'm hooked on monkey xxunk . xxbos a hoe gon na</td>\n",
       "    </tr>\n",
       "    <tr>\n",
       "      <td>2</td>\n",
       "      <td>rick 's positions are xxunk by xxunk … xxbos xxmaj these hoes is lost xxup rt xxunk : @1bcarter hahaha how much you wanna bet she do n't get the job lmao xxbos xxmaj what ever happened to the xxmaj teen xxmaj titans of my day and why must they mock me with this xxmaj teen xxmaj titans xxmaj go ? xxbos “ @liidurk _ _ : xxmaj females get</td>\n",
       "    </tr>\n",
       "    <tr>\n",
       "      <td>3</td>\n",
       "      <td>t.co / xxunk xxbos xxmaj xxunk xxmaj banks still getting paid for these xxmaj america 's next top model re runs , this bitch so bossy 👠 xxunk xxbos xxmaj leave it up to me it would 've been in the trash xxrep 4 . xxmaj all of it . xxbos xxmaj wallah i 'll drop kick this bitch xxbos xxmaj crystal got all the hoes . xxbos @coolstoryisaac hahaha</td>\n",
       "    </tr>\n",
       "    <tr>\n",
       "      <td>4</td>\n",
       "      <td>than xxunk you want but aye i 'm gon na have fun bitch so xxup suck a xxup xxunk ! ! xxbos “ xxunk xxmaj and happy to be hoes too . xxmaj xxunk than being in denial xxbos @denytheprophecy that 's a dragon you retard xxbos # xxunk has a highschool graduation rate near 50 % and that 's why they have so many uninformed # teabaggers # morningjoe</td>\n",
       "    </tr>\n",
       "  </tbody>\n",
       "</table>"
      ],
      "text/plain": [
       "<IPython.core.display.HTML object>"
      ]
     },
     "metadata": {},
     "output_type": "display_data"
    }
   ],
   "source": [
    "data_lm.show_batch()\n"
   ]
  },
  {
   "cell_type": "code",
   "execution_count": 31,
   "metadata": {},
   "outputs": [
    {
     "data": {
      "text/html": [
       "<table border=\"1\" class=\"dataframe\">\n",
       "  <thead>\n",
       "    <tr style=\"text-align: right;\">\n",
       "      <th>text</th>\n",
       "      <th>target</th>\n",
       "    </tr>\n",
       "  </thead>\n",
       "  <tbody>\n",
       "    <tr>\n",
       "      <td>xxbos xxmaj was finna slit my eyebrows up in the shop but na xxrep 6 h . \\n  . \\n  . \\n  . \\n  . \\n  . \\n  . \\n  . \\n  . \\n  . \\n  . \\n  . \\n  . \\n  . \\n  . \\n  . \\n  . \\n  . \\n</td>\n",
       "      <td>2</td>\n",
       "    </tr>\n",
       "    <tr>\n",
       "      <td>xxbos xxup rt @heissarcastic : xxmaj if my jokes offend you : \\n \\n  1 ) i 'm sorry \\n  2 ) xxmaj it wo n't happen again \\n  3 ) 1 &amp; &amp; 2 are lies \\n  4 ) xxmaj you 're a pussy \\n  5 ) xxmaj your xxmaj mom hates you …</td>\n",
       "      <td>1</td>\n",
       "    </tr>\n",
       "    <tr>\n",
       "      <td>xxbos xxup rt @fewjr : i do n't trust nobody . 😔 👌 \\n \\n  xxmaj these bitches fake . 👉 💃 \\n \\n  xxmaj these niggas faker . 👉 🚶 \\n \\n  xxmaj so it 's not \" fuck y' all \" , i 'd rather just not fuck wi …</td>\n",
       "      <td>1</td>\n",
       "    </tr>\n",
       "    <tr>\n",
       "      <td>xxbos xxup rt xxunk : xxmaj all a nigga need is money . \\n  . \\n  . \\n  . \\n  . \\n  . \\n  . \\n  . \\n  . \\n  . \\n  . \\n  . \\n  . \\n  . \\n  . \\n  . \\n  xxmaj fuck a bitch</td>\n",
       "      <td>1</td>\n",
       "    </tr>\n",
       "    <tr>\n",
       "      <td>xxbos xxmaj lmaoo “ @leanandcuisine : xxmaj bad bitch : xxmaj can i hit that ? \\n \\n  \" xxmaj you matching or xxrep 5 . ? \" \\n \\n  xxmaj bad bitch : * bats eyelashes * \\n \\n  \" xxrep 9 . are you matching or ? \" ”</td>\n",
       "      <td>1</td>\n",
       "    </tr>\n",
       "  </tbody>\n",
       "</table>"
      ],
      "text/plain": [
       "<IPython.core.display.HTML object>"
      ]
     },
     "metadata": {},
     "output_type": "display_data"
    }
   ],
   "source": [
    "data_clas.show_batch()"
   ]
  }
 ],
 "metadata": {
  "kernelspec": {
   "display_name": "Python 3",
   "language": "python",
   "name": "python3"
  },
  "language_info": {
   "codemirror_mode": {
    "name": "ipython",
    "version": 3
   },
   "file_extension": ".py",
   "mimetype": "text/x-python",
   "name": "python",
   "nbconvert_exporter": "python",
   "pygments_lexer": "ipython3",
   "version": "3.6.7"
  }
 },
 "nbformat": 4,
 "nbformat_minor": 2
}
