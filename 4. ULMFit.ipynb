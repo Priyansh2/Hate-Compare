{
 "cells": [
  {
   "cell_type": "markdown",
   "metadata": {},
   "source": [
    "# Transfer Learning\n",
    "\n",
    "Closely modeled after fast.ai's [NLP course](https://github.com/fastai/course-nlp)."
   ]
  },
  {
   "cell_type": "markdown",
   "metadata": {},
   "source": [
    "### Settings & Imports"
   ]
  },
  {
   "cell_type": "code",
   "execution_count": 1,
   "metadata": {},
   "outputs": [],
   "source": [
    "%reload_ext autoreload\n",
    "%autoreload 2\n",
    "%matplotlib inline"
   ]
  },
  {
   "cell_type": "code",
   "execution_count": 2,
   "metadata": {},
   "outputs": [],
   "source": [
    "import os.path\n",
    "from fastai.text import *"
   ]
  },
  {
   "cell_type": "markdown",
   "metadata": {},
   "source": [
    "### Data Preprocessing"
   ]
  },
  {
   "cell_type": "code",
   "execution_count": 3,
   "metadata": {},
   "outputs": [],
   "source": [
    "path = \"./Replications/Davidson2017/data\""
   ]
  },
  {
   "cell_type": "code",
   "execution_count": 8,
   "metadata": {},
   "outputs": [
    {
     "name": "stdout",
     "output_type": "stream",
     "text": [
      "Loading saved data files...\n",
      "\n"
     ]
    }
   ],
   "source": [
    "bs = 128  # Batch size\n",
    "\n",
    "# If files have been saved, load them.\n",
    "if os.path.exists(path + \"/data_lm_export.pkl\"):\n",
    "    \n",
    "    print(\"Loading saved data files...\\n\")\n",
    "    \n",
    "    data_lm = load_data(path, 'data_lm_export.pkl')\n",
    "    data_clas = load_data(path, 'data_clas_export.pkl', bs=bs)\n",
    "    \n",
    "else:\n",
    "    \n",
    "    print(\"Files not found. Creating data files...\\n\")\n",
    "    \n",
    "    # Language model data\n",
    "    data_lm = TextLMDataBunch.from_csv(path, 'labeled_data.csv', text_cols='tweet')\n",
    "    # Classifier model data\n",
    "    data_clas = TextClasDataBunch.from_csv(path, 'labeled_data.csv', text_cols='tweet', label_cols='class', \n",
    "                                           vocab = data_lm.train_ds.vocab, bs=bs)\n",
    "    \n",
    "    # Save files\n",
    "    data_lm.save('data_lm_export.pkl')\n",
    "    data_clas.save('data_clas_export.pkl')"
   ]
  },
  {
   "cell_type": "code",
   "execution_count": 9,
   "metadata": {},
   "outputs": [
    {
     "data": {
      "text/html": [
       "<table border=\"1\" class=\"dataframe\">\n",
       "  <thead>\n",
       "    <tr style=\"text-align: right;\">\n",
       "      <th>idx</th>\n",
       "      <th>text</th>\n",
       "    </tr>\n",
       "  </thead>\n",
       "  <tbody>\n",
       "    <tr>\n",
       "      <td>0</td>\n",
       "      <td>security , please ignore any foreign threats and focus your sole attention on our police force # xxup xxunk # xxup xxunk xxbos xxmaj this bitch @lvl_7_eevee buys xxunk water . xxbos xxunk you a bitch tho i know for sure i 'm not . xxmaj you 'd get your ass beat by any of my bitches that 's fact 😂 😂 xxbos xxmaj that 's yo bitch xxrep 5</td>\n",
       "    </tr>\n",
       "    <tr>\n",
       "      <td>1</td>\n",
       "      <td>then be xxunk when she taking care of it by herself ? xxbos i coulda xxunk i was the last bitch on tunchi ig 💁 ✌ ️ 😘 xxbos @nasshrodriguez @linndaroose always down patty never been a pussy 😼 xxbos “ xxunk _ : xxmaj that pussy so wet she got ta dry xxunk telling my business xxbos i 'm hooked on monkey xxunk . xxbos a hoe gon na</td>\n",
       "    </tr>\n",
       "    <tr>\n",
       "      <td>2</td>\n",
       "      <td>rick 's positions are xxunk by xxunk … xxbos xxmaj these hoes is lost xxup rt xxunk : @1bcarter hahaha how much you wanna bet she do n't get the job lmao xxbos xxmaj what ever happened to the xxmaj teen xxmaj titans of my day and why must they mock me with this xxmaj teen xxmaj titans xxmaj go ? xxbos “ @liidurk _ _ : xxmaj females get</td>\n",
       "    </tr>\n",
       "    <tr>\n",
       "      <td>3</td>\n",
       "      <td>t.co / xxunk xxbos xxmaj xxunk xxmaj banks still getting paid for these xxmaj america 's next top model re runs , this bitch so bossy 👠 xxunk xxbos xxmaj leave it up to me it would 've been in the trash xxrep 4 . xxmaj all of it . xxbos xxmaj wallah i 'll drop kick this bitch xxbos xxmaj crystal got all the hoes . xxbos @coolstoryisaac hahaha</td>\n",
       "    </tr>\n",
       "    <tr>\n",
       "      <td>4</td>\n",
       "      <td>than xxunk you want but aye i 'm gon na have fun bitch so xxup suck a xxup xxunk ! ! xxbos “ xxunk xxmaj and happy to be hoes too . xxmaj xxunk than being in denial xxbos @denytheprophecy that 's a dragon you retard xxbos # xxunk has a highschool graduation rate near 50 % and that 's why they have so many uninformed # teabaggers # morningjoe</td>\n",
       "    </tr>\n",
       "  </tbody>\n",
       "</table>"
      ],
      "text/plain": [
       "<IPython.core.display.HTML object>"
      ]
     },
     "metadata": {},
     "output_type": "display_data"
    }
   ],
   "source": [
    "data_lm.show_batch()"
   ]
  },
  {
   "cell_type": "code",
   "execution_count": 10,
   "metadata": {},
   "outputs": [
    {
     "data": {
      "text/html": [
       "<table border=\"1\" class=\"dataframe\">\n",
       "  <thead>\n",
       "    <tr style=\"text-align: right;\">\n",
       "      <th>text</th>\n",
       "      <th>target</th>\n",
       "    </tr>\n",
       "  </thead>\n",
       "  <tbody>\n",
       "    <tr>\n",
       "      <td>xxbos xxmaj was finna slit my eyebrows up in the shop but na xxrep 6 h . \\n  . \\n  . \\n  . \\n  . \\n  . \\n  . \\n  . \\n  . \\n  . \\n  . \\n  . \\n  . \\n  . \\n  . \\n  . \\n  . \\n  . \\n</td>\n",
       "      <td>2</td>\n",
       "    </tr>\n",
       "    <tr>\n",
       "      <td>xxbos xxup rt xxunk : i xxmaj be xxmaj like \\n \\n  🚗 xxrep 13 _ 🚓 \\n  xxmaj fuck ! xxmaj here come the xxunk \\n \\n  _ _ 🚗 xxrep 6 _ 🚓 _ _ \\n  xxmaj be cool son \\n \\n  _ _ _ 🚗 🚓 xxrep 5 _ \\n  xxmaj man fuck \\n \\n  _ _ _ 🚓 _</td>\n",
       "      <td>1</td>\n",
       "    </tr>\n",
       "    <tr>\n",
       "      <td>xxbos xxup rt xxunk : xxup rt if you listen to these bands 😊 \\n \\n  xxup xxunk \\n  xxup xxunk \\n  xxup xxunk \\n  xxup atl \\n  xxup xxunk \\n  xxup xxunk \\n  xxup xxunk \\n  xxup xxunk \\n  xxup fob \\n  xxup xxunk \\n  xxmaj blink xxunk \\n  xxup xxunk \\n  xxup xxunk \\n</td>\n",
       "      <td>2</td>\n",
       "    </tr>\n",
       "    <tr>\n",
       "      <td>xxbos xxup rt xxunk : “ xxmaj daddy , xxmaj batman ’s parents are dead . ” \\n \\n  “ xxmaj yup . ” \\n \\n  “ xxmaj and xxmaj superman ’s . ” \\n \\n  “ xxmaj yup . ” \\n \\n  “ xxmaj what am i going to be when you die ? ” \\n \\n  “ xxmaj sad ho …</td>\n",
       "      <td>2</td>\n",
       "    </tr>\n",
       "    <tr>\n",
       "      <td>xxbos xxup rt xxunk : xxmaj all tha bad bitches need to go to @currensy_spitta concert in xxunk tonight . ✈ ️ ✈ ️ ✈ ️ ✈ ️ ✈ ️ ✈ ️ ✈ ️ ✈ ️ ✈ ️ ✈ ️ ✈ ️ ✈ ️ ✈ ️ ✈ ️ ✈ ️ ✈ ️ ✈ ️ ✈ ️</td>\n",
       "      <td>1</td>\n",
       "    </tr>\n",
       "  </tbody>\n",
       "</table>"
      ],
      "text/plain": [
       "<IPython.core.display.HTML object>"
      ]
     },
     "metadata": {},
     "output_type": "display_data"
    }
   ],
   "source": [
    "data_clas.show_batch()"
   ]
  },
  {
   "cell_type": "markdown",
   "metadata": {},
   "source": [
    "### Fine-Tuning"
   ]
  },
  {
   "cell_type": "code",
   "execution_count": 19,
   "metadata": {},
   "outputs": [
    {
     "data": {
      "text/html": [
       "<table border=\"1\" class=\"dataframe\">\n",
       "  <thead>\n",
       "    <tr style=\"text-align: left;\">\n",
       "      <th>epoch</th>\n",
       "      <th>train_loss</th>\n",
       "      <th>valid_loss</th>\n",
       "      <th>accuracy</th>\n",
       "      <th>time</th>\n",
       "    </tr>\n",
       "  </thead>\n",
       "  <tbody>\n",
       "    <tr>\n",
       "      <td>0</td>\n",
       "      <td>4.858530</td>\n",
       "      <td>4.310792</td>\n",
       "      <td>0.267954</td>\n",
       "      <td>00:12</td>\n",
       "    </tr>\n",
       "  </tbody>\n",
       "</table>"
      ],
      "text/plain": [
       "<IPython.core.display.HTML object>"
      ]
     },
     "metadata": {},
     "output_type": "display_data"
    }
   ],
   "source": [
    "learn = language_model_learner(data_lm, AWD_LSTM, drop_mult=0.5).to_fp16(clip=0.1)\n",
    "learn.fit_one_cycle(1, 1e-2,  moms=(0.8,0.7))"
   ]
  },
  {
   "cell_type": "code",
   "execution_count": 20,
   "metadata": {},
   "outputs": [
    {
     "data": {
      "text/html": [
       "<table border=\"1\" class=\"dataframe\">\n",
       "  <thead>\n",
       "    <tr style=\"text-align: left;\">\n",
       "      <th>epoch</th>\n",
       "      <th>train_loss</th>\n",
       "      <th>valid_loss</th>\n",
       "      <th>accuracy</th>\n",
       "      <th>time</th>\n",
       "    </tr>\n",
       "  </thead>\n",
       "  <tbody>\n",
       "    <tr>\n",
       "      <td>0</td>\n",
       "      <td>4.320427</td>\n",
       "      <td>4.196193</td>\n",
       "      <td>0.280901</td>\n",
       "      <td>00:15</td>\n",
       "    </tr>\n",
       "    <tr>\n",
       "      <td>1</td>\n",
       "      <td>4.187600</td>\n",
       "      <td>4.094646</td>\n",
       "      <td>0.291130</td>\n",
       "      <td>00:15</td>\n",
       "    </tr>\n",
       "    <tr>\n",
       "      <td>2</td>\n",
       "      <td>4.065797</td>\n",
       "      <td>4.046175</td>\n",
       "      <td>0.295710</td>\n",
       "      <td>00:16</td>\n",
       "    </tr>\n",
       "    <tr>\n",
       "      <td>3</td>\n",
       "      <td>3.952305</td>\n",
       "      <td>4.027632</td>\n",
       "      <td>0.298496</td>\n",
       "      <td>00:16</td>\n",
       "    </tr>\n",
       "    <tr>\n",
       "      <td>4</td>\n",
       "      <td>3.905034</td>\n",
       "      <td>4.026507</td>\n",
       "      <td>0.299631</td>\n",
       "      <td>00:16</td>\n",
       "    </tr>\n",
       "  </tbody>\n",
       "</table>"
      ],
      "text/plain": [
       "<IPython.core.display.HTML object>"
      ]
     },
     "metadata": {},
     "output_type": "display_data"
    }
   ],
   "source": [
    "learn.unfreeze()\n",
    "learn.fit_one_cycle(5, slice(1e-4,1e-3), moms=(0.8,0.7), wd=0.1)"
   ]
  },
  {
   "cell_type": "code",
   "execution_count": null,
   "metadata": {},
   "outputs": [],
   "source": []
  },
  {
   "cell_type": "code",
   "execution_count": null,
   "metadata": {},
   "outputs": [],
   "source": []
  }
 ],
 "metadata": {
  "kernelspec": {
   "display_name": "Python 3",
   "language": "python",
   "name": "python3"
  },
  "language_info": {
   "codemirror_mode": {
    "name": "ipython",
    "version": 3
   },
   "file_extension": ".py",
   "mimetype": "text/x-python",
   "name": "python",
   "nbconvert_exporter": "python",
   "pygments_lexer": "ipython3",
   "version": "3.6.7"
  }
 },
 "nbformat": 4,
 "nbformat_minor": 2
}
