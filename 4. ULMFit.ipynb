{
 "cells": [
  {
   "cell_type": "markdown",
   "metadata": {},
   "source": [
    "# Transfer Learning\n",
    "\n",
    "Closely modeled after fast.ai's [NLP course](https://github.com/fastai/course-nlp)."
   ]
  },
  {
   "cell_type": "markdown",
   "metadata": {},
   "source": [
    "### Settings & Imports"
   ]
  },
  {
   "cell_type": "code",
   "execution_count": 1,
   "metadata": {},
   "outputs": [],
   "source": [
    "%reload_ext autoreload\n",
    "%autoreload 2\n",
    "%matplotlib inline"
   ]
  },
  {
   "cell_type": "code",
   "execution_count": 2,
   "metadata": {},
   "outputs": [],
   "source": [
    "import os.path\n",
    "from fastai.text import *"
   ]
  },
  {
   "cell_type": "markdown",
   "metadata": {},
   "source": [
    "### Data Preprocessing"
   ]
  },
  {
   "cell_type": "code",
   "execution_count": 24,
   "metadata": {},
   "outputs": [],
   "source": [
    "path = \"./Replications/Davidson2017/data\""
   ]
  },
  {
   "cell_type": "code",
   "execution_count": 25,
   "metadata": {},
   "outputs": [
    {
     "name": "stdout",
     "output_type": "stream",
     "text": [
      "Files not found. Creating data files...\n",
      "\n"
     ]
    },
    {
     "data": {
      "text/html": [],
      "text/plain": [
       "<IPython.core.display.HTML object>"
      ]
     },
     "metadata": {},
     "output_type": "display_data"
    },
    {
     "data": {
      "text/html": [],
      "text/plain": [
       "<IPython.core.display.HTML object>"
      ]
     },
     "metadata": {},
     "output_type": "display_data"
    },
    {
     "data": {
      "text/html": [],
      "text/plain": [
       "<IPython.core.display.HTML object>"
      ]
     },
     "metadata": {},
     "output_type": "display_data"
    },
    {
     "data": {
      "text/html": [],
      "text/plain": [
       "<IPython.core.display.HTML object>"
      ]
     },
     "metadata": {},
     "output_type": "display_data"
    }
   ],
   "source": [
    "bs = 128  # Batch size\n",
    "\n",
    "# If files have been saved, load them.\n",
    "if os.path.exists(path + \"/data_lm_export.pkl\"):\n",
    "    \n",
    "    print(\"Loading saved data files...\\n\")\n",
    "    \n",
    "    data_lm = load_data(path, 'data_lm_export.pkl', bs=bs)\n",
    "    data_clas = load_data(path, 'data_clas_export.pkl', bs=bs)\n",
    "    data_bwd = load_data(path, 'data_lm_export.pkl', bs=bs, backwards=True)\n",
    "    \n",
    "else:\n",
    "    \n",
    "    print(\"Files not found. Creating data files...\\n\")\n",
    "    \n",
    "    # Language model data\n",
    "    data_lm = TextLMDataBunch.from_csv(path, 'labeled_data.csv', text_cols='tweet', bs=bs)\n",
    "    # Classifier model data\n",
    "    data_clas = TextClasDataBunch.from_csv(path, 'labeled_data.csv', text_cols='tweet', label_cols='class', \n",
    "                                           vocab = data_lm.train_ds.vocab, bs=bs)\n",
    "    \n",
    "    # Save files\n",
    "    data_lm.save('data_lm_export.pkl')\n",
    "    data_clas.save('data_clas_export.pkl')\n",
    "    \n",
    "    # Load backwards data\n",
    "    data_bwd = load_data(path, 'data_lm_export.pkl', bs=bs, backwards=True)"
   ]
  },
  {
   "cell_type": "code",
   "execution_count": 26,
   "metadata": {},
   "outputs": [
    {
     "data": {
      "text/html": [
       "<table border=\"1\" class=\"dataframe\">\n",
       "  <thead>\n",
       "    <tr style=\"text-align: right;\">\n",
       "      <th>idx</th>\n",
       "      <th>text</th>\n",
       "    </tr>\n",
       "  </thead>\n",
       "  <tbody>\n",
       "    <tr>\n",
       "      <td>0</td>\n",
       "      <td>xxunk xxbos @iam_troyal5 @teflondon4200 @bossman_carl xxmaj mammy push you out and had a white baby like a bitch xxbos xxunk xxmaj do n't you have a trash can ? xxbos xxunk xxmaj yankees like xxmaj florida xxmaj state ; not xxmaj floridians . xxbos xxmaj hating on me ? xxmaj then bitch what 's good ? xxbos xxunk i would n't know cause i do n't fuck with these hoes</td>\n",
       "    </tr>\n",
       "    <tr>\n",
       "      <td>1</td>\n",
       "      <td>you and those guys at the park playing bitch volleyball . # xxunk xxbos xxmaj bunch of hurt niggas &amp; &amp; bitches on my xxup ig timeline tonight .. xxmaj muhfuckas lame as hell b xxbos xxup rt @krislisisms : xxmaj today something is dope . xxmaj tomorrow that same thing is trash . xxmaj next month it is irrelevant . xxmaj next year it 's classic . xxbos i</td>\n",
       "    </tr>\n",
       "    <tr>\n",
       "      <td>2</td>\n",
       "      <td>: xxmaj since you could n't keep my dick outa your mouth at least keep my name out of it . xxmaj y'all some hoes for real . xxbos xxup rt xxunk : xxmaj had a crush on a bitch with a man i tried to show her that i could treat her better but i never had no luck xxbos xxup rt @dallywaggz12 : “ @justreiatabie : xxmaj charlie</td>\n",
       "    </tr>\n",
       "    <tr>\n",
       "      <td>3</td>\n",
       "      <td>i wo n't say how many bitches i fucked but i might say how many 100s i touched 💲 💲 💲 xxbos @b0ssladyre just ate a xxunk brownie and is seeing random cats xxbos xxmaj tickets hoe http : / / t.co / xxunk xxbos she pooted “ xxunk : xxmaj either xxmaj young xxmaj thug gay , or this bitch pooted https : / / t.co / xxunk ”</td>\n",
       "    </tr>\n",
       "    <tr>\n",
       "      <td>4</td>\n",
       "      <td>hoe that 's your work outfit xxbos xxunk better nig . xxmaj lol but if anything ill flip u the 10 or something . i m tryna get some more cash xxbos xxmaj some of these hoes deserve a kick in their vagina .. xxmaj lucky i ai nt tryna loose my shoe ! xxbos “ xxunk _ : b xxmaj oreo a xxunk thru 🔥 🔥 🔥 xxbos xxup</td>\n",
       "    </tr>\n",
       "  </tbody>\n",
       "</table>"
      ],
      "text/plain": [
       "<IPython.core.display.HTML object>"
      ]
     },
     "metadata": {},
     "output_type": "display_data"
    }
   ],
   "source": [
    "data_lm.show_batch()"
   ]
  },
  {
   "cell_type": "code",
   "execution_count": 27,
   "metadata": {},
   "outputs": [
    {
     "data": {
      "text/html": [
       "<table border=\"1\" class=\"dataframe\">\n",
       "  <thead>\n",
       "    <tr style=\"text-align: right;\">\n",
       "      <th>text</th>\n",
       "      <th>target</th>\n",
       "    </tr>\n",
       "  </thead>\n",
       "  <tbody>\n",
       "    <tr>\n",
       "      <td>xxbos xxmaj was finna slit my eyebrows up in the shop but na xxrep 6 h . \\n  . \\n  . \\n  . \\n  . \\n  . \\n  . \\n  . \\n  . \\n  . \\n  . \\n  . \\n  . \\n  . \\n  . \\n  . \\n  . \\n  . \\n</td>\n",
       "      <td>2</td>\n",
       "    </tr>\n",
       "    <tr>\n",
       "      <td>xxbos xxup rt @sportscenter : xxmaj yankees survive 9th - xxunk scare to beat xxmaj xxunk , 12 - 11 . \\n  • xxmaj gardner : 4 - 5 , xxup hr , xxup xxunk , 3 r \\n  • xxmaj teixeira : 1 - 2 , xxup hr , 2 xxup xxunk , 3 r htt …</td>\n",
       "      <td>2</td>\n",
       "    </tr>\n",
       "    <tr>\n",
       "      <td>xxbos xxup rt xxunk : i be like wassup bitch ? ! \\n  ¯ \\ ( ˘o˘ ) / ¯ \\n  ) ) \\n  | \\ \\n  | | _ \\n  \" huh ? nothing \" \\n \\n  that 's what i thought hoe . \\n  ( ˘o˘ ) \\n  &lt; ) …</td>\n",
       "      <td>1</td>\n",
       "    </tr>\n",
       "    <tr>\n",
       "      <td>xxbos xxmaj my manager xxunk new brand | xxup pre - xxup order xxup now w / \\n  ( xxunk ) xxunk - xxunk xxunk -- &gt; xxunk \" xxmaj red xxmaj xxunk \" &amp; &amp; \" xxmaj cherry xxmaj white \" beanies http : / / t.co / xxunk</td>\n",
       "      <td>2</td>\n",
       "    </tr>\n",
       "    <tr>\n",
       "      <td>xxbos xxup rt xxunk : “ @16stanleys : xxmaj ugh he 's mine bitches ! xxmaj he 's mine &amp; &amp; mine only . xxmaj that 's my baby , my man . xxmaj just know &amp; &amp; be aware . xxmaj that 's me ! ” 👏 👏 👏</td>\n",
       "      <td>1</td>\n",
       "    </tr>\n",
       "  </tbody>\n",
       "</table>"
      ],
      "text/plain": [
       "<IPython.core.display.HTML object>"
      ]
     },
     "metadata": {},
     "output_type": "display_data"
    }
   ],
   "source": [
    "data_clas.show_batch()"
   ]
  },
  {
   "cell_type": "markdown",
   "metadata": {},
   "source": [
    "### Fine-Tuning (Forward)"
   ]
  },
  {
   "cell_type": "code",
   "execution_count": 42,
   "metadata": {},
   "outputs": [
    {
     "data": {
      "text/html": [],
      "text/plain": [
       "<IPython.core.display.HTML object>"
      ]
     },
     "metadata": {},
     "output_type": "display_data"
    },
    {
     "name": "stdout",
     "output_type": "stream",
     "text": [
      "LR Finder is complete, type {learner_name}.recorder.plot() to see the graph.\n"
     ]
    }
   ],
   "source": [
    "learn_lm = language_model_learner(data_lm, AWD_LSTM, drop_mult=1).to_fp16(clip=0.1)\n",
    "learn_lm.lr_find()"
   ]
  },
  {
   "cell_type": "code",
   "execution_count": 43,
   "metadata": {},
   "outputs": [
    {
     "data": {
      "image/png": "[encoded data removed]",
      "text/plain": [
       "<Figure size 432x288 with 1 Axes>"
      ]
     },
     "metadata": {
      "needs_background": "light"
     },
     "output_type": "display_data"
    }
   ],
   "source": [
    "learn_lm.recorder.plot(skip_end=15)"
   ]
  },
  {
   "cell_type": "code",
   "execution_count": 44,
   "metadata": {},
   "outputs": [
    {
     "data": {
      "text/html": [
       "<table border=\"1\" class=\"dataframe\">\n",
       "  <thead>\n",
       "    <tr style=\"text-align: left;\">\n",
       "      <th>epoch</th>\n",
       "      <th>train_loss</th>\n",
       "      <th>valid_loss</th>\n",
       "      <th>accuracy</th>\n",
       "      <th>time</th>\n",
       "    </tr>\n",
       "  </thead>\n",
       "  <tbody>\n",
       "    <tr>\n",
       "      <td>0</td>\n",
       "      <td>5.114320</td>\n",
       "      <td>4.335579</td>\n",
       "      <td>0.267634</td>\n",
       "      <td>00:11</td>\n",
       "    </tr>\n",
       "  </tbody>\n",
       "</table>"
      ],
      "text/plain": [
       "<IPython.core.display.HTML object>"
      ]
     },
     "metadata": {},
     "output_type": "display_data"
    }
   ],
   "source": [
    "learn_lm.fit_one_cycle(1, 5e-2,  moms=(0.8,0.7))"
   ]
  },
  {
   "cell_type": "code",
   "execution_count": 45,
   "metadata": {},
   "outputs": [
    {
     "data": {
      "text/html": [
       "<table border=\"1\" class=\"dataframe\">\n",
       "  <thead>\n",
       "    <tr style=\"text-align: left;\">\n",
       "      <th>epoch</th>\n",
       "      <th>train_loss</th>\n",
       "      <th>valid_loss</th>\n",
       "      <th>accuracy</th>\n",
       "      <th>time</th>\n",
       "    </tr>\n",
       "  </thead>\n",
       "  <tbody>\n",
       "    <tr>\n",
       "      <td>0</td>\n",
       "      <td>4.425808</td>\n",
       "      <td>4.185560</td>\n",
       "      <td>0.280692</td>\n",
       "      <td>00:14</td>\n",
       "    </tr>\n",
       "    <tr>\n",
       "      <td>1</td>\n",
       "      <td>4.285418</td>\n",
       "      <td>4.065583</td>\n",
       "      <td>0.292662</td>\n",
       "      <td>00:14</td>\n",
       "    </tr>\n",
       "    <tr>\n",
       "      <td>2</td>\n",
       "      <td>4.119760</td>\n",
       "      <td>4.012702</td>\n",
       "      <td>0.297117</td>\n",
       "      <td>00:14</td>\n",
       "    </tr>\n",
       "    <tr>\n",
       "      <td>3</td>\n",
       "      <td>3.943361</td>\n",
       "      <td>3.990196</td>\n",
       "      <td>0.301776</td>\n",
       "      <td>00:14</td>\n",
       "    </tr>\n",
       "    <tr>\n",
       "      <td>4</td>\n",
       "      <td>3.813872</td>\n",
       "      <td>3.990281</td>\n",
       "      <td>0.302111</td>\n",
       "      <td>00:14</td>\n",
       "    </tr>\n",
       "  </tbody>\n",
       "</table>"
      ],
      "text/plain": [
       "<IPython.core.display.HTML object>"
      ]
     },
     "metadata": {},
     "output_type": "display_data"
    }
   ],
   "source": [
    "learn_lm.unfreeze()\n",
    "learn_lm.fit_one_cycle(5, slice(1e-4,1e-2), moms=(0.8,0.7), wd=0.1)"
   ]
  },
  {
   "cell_type": "code",
   "execution_count": 46,
   "metadata": {},
   "outputs": [],
   "source": [
    "learn_lm.save_encoder('fwd_enc')"
   ]
  },
  {
   "cell_type": "markdown",
   "metadata": {},
   "source": [
    "### Fine-Tuning (Backward)"
   ]
  },
  {
   "cell_type": "code",
   "execution_count": 47,
   "metadata": {},
   "outputs": [
    {
     "data": {
      "text/html": [],
      "text/plain": [
       "<IPython.core.display.HTML object>"
      ]
     },
     "metadata": {},
     "output_type": "display_data"
    },
    {
     "name": "stdout",
     "output_type": "stream",
     "text": [
      "LR Finder is complete, type {learner_name}.recorder.plot() to see the graph.\n"
     ]
    }
   ],
   "source": [
    "learn_bwd = language_model_learner(data_lm, AWD_LSTM, drop_mult=1).to_fp16(clip=0.1)\n",
    "learn_bwd.lr_find()"
   ]
  },
  {
   "cell_type": "code",
   "execution_count": 48,
   "metadata": {},
   "outputs": [
    {
     "data": {
      "text/html": [
       "<table border=\"1\" class=\"dataframe\">\n",
       "  <thead>\n",
       "    <tr style=\"text-align: left;\">\n",
       "      <th>epoch</th>\n",
       "      <th>train_loss</th>\n",
       "      <th>valid_loss</th>\n",
       "      <th>accuracy</th>\n",
       "      <th>time</th>\n",
       "    </tr>\n",
       "  </thead>\n",
       "  <tbody>\n",
       "    <tr>\n",
       "      <td>0</td>\n",
       "      <td>5.373314</td>\n",
       "      <td>4.423134</td>\n",
       "      <td>0.256204</td>\n",
       "      <td>00:11</td>\n",
       "    </tr>\n",
       "  </tbody>\n",
       "</table>"
      ],
      "text/plain": [
       "<IPython.core.display.HTML object>"
      ]
     },
     "metadata": {},
     "output_type": "display_data"
    }
   ],
   "source": [
    "learn_bwd.fit_one_cycle(1, 1e-2,  moms=(0.8,0.7))"
   ]
  },
  {
   "cell_type": "code",
   "execution_count": 49,
   "metadata": {},
   "outputs": [
    {
     "data": {
      "text/html": [
       "<table border=\"1\" class=\"dataframe\">\n",
       "  <thead>\n",
       "    <tr style=\"text-align: left;\">\n",
       "      <th>epoch</th>\n",
       "      <th>train_loss</th>\n",
       "      <th>valid_loss</th>\n",
       "      <th>accuracy</th>\n",
       "      <th>time</th>\n",
       "    </tr>\n",
       "  </thead>\n",
       "  <tbody>\n",
       "    <tr>\n",
       "      <td>0</td>\n",
       "      <td>4.610384</td>\n",
       "      <td>4.186933</td>\n",
       "      <td>0.283036</td>\n",
       "      <td>00:14</td>\n",
       "    </tr>\n",
       "    <tr>\n",
       "      <td>1</td>\n",
       "      <td>4.393055</td>\n",
       "      <td>4.041828</td>\n",
       "      <td>0.294773</td>\n",
       "      <td>00:14</td>\n",
       "    </tr>\n",
       "    <tr>\n",
       "      <td>2</td>\n",
       "      <td>4.168946</td>\n",
       "      <td>3.966893</td>\n",
       "      <td>0.301600</td>\n",
       "      <td>00:14</td>\n",
       "    </tr>\n",
       "    <tr>\n",
       "      <td>3</td>\n",
       "      <td>3.970195</td>\n",
       "      <td>3.947033</td>\n",
       "      <td>0.304669</td>\n",
       "      <td>00:14</td>\n",
       "    </tr>\n",
       "    <tr>\n",
       "      <td>4</td>\n",
       "      <td>3.818651</td>\n",
       "      <td>3.946035</td>\n",
       "      <td>0.305441</td>\n",
       "      <td>00:14</td>\n",
       "    </tr>\n",
       "  </tbody>\n",
       "</table>"
      ],
      "text/plain": [
       "<IPython.core.display.HTML object>"
      ]
     },
     "metadata": {},
     "output_type": "display_data"
    }
   ],
   "source": [
    "learn_bwd.unfreeze()\n",
    "learn_bwd.fit_one_cycle(5, slice(1e-4,1e-2), moms=(0.8,0.7), wd=0.1)"
   ]
  },
  {
   "cell_type": "code",
   "execution_count": 50,
   "metadata": {},
   "outputs": [],
   "source": [
    "learn_bwd.save_encoder('bwd_enc')"
   ]
  },
  {
   "cell_type": "code",
   "execution_count": null,
   "metadata": {},
   "outputs": [],
   "source": []
  }
 ],
 "metadata": {
  "kernelspec": {
   "display_name": "Python 3",
   "language": "python",
   "name": "python3"
  },
  "language_info": {
   "codemirror_mode": {
    "name": "ipython",
    "version": 3
   },
   "file_extension": ".py",
   "mimetype": "text/x-python",
   "name": "python",
   "nbconvert_exporter": "python",
   "pygments_lexer": "ipython3",
   "version": "3.6.7"
  }
 },
 "nbformat": 4,
 "nbformat_minor": 2
}
